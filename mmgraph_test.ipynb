{
 "cells": [
  {
   "cell_type": "code",
   "execution_count": 63,
   "id": "d9da3367-5e7c-4491-b7ce-46a1cc2ed6f3",
   "metadata": {},
   "outputs": [],
   "source": [
    "import pandas as pd\n",
    "import pickle \n",
    "import numpy as np\n",
    "import networkx as nx\n",
    "import re\n",
    "from collections import Counter\n",
    "\n",
    "ROOT_PATH = '/home/chiwon/workspace/vmh_workbook/mangoflavoured.github.io'\n",
    "graphs = [\"Colorectal\", \"IBD\", \"Obesity\", \"T2D\", \"WT2D\"] #Cirrhosis: error"
   ]
  },
  {
   "cell_type": "code",
   "execution_count": 34,
   "id": "f50ac81b-a9e6-42de-b37e-8cbd2fc8000c",
   "metadata": {},
   "outputs": [
    {
     "name": "stdout",
     "output_type": "stream",
     "text": [
      "dict_keys(['abundance_profile', 'marker_profile', 'microbe_names', 'fold_idx_1', 'fold_idx_2', 'fold_idx_3', 'fold_idx_4', 'fold_idx_5'])\n"
     ]
    }
   ],
   "source": [
    "with open(f\"{ROOT_PATH}/data/mm-graph/preprocessed_T2D.pkl\", \"rb\") as h:\n",
    "    t2d_dict = pickle.load(h)\n",
    "    print(t2d_dict.keys())"
   ]
  },
  {
   "cell_type": "code",
   "execution_count": 35,
   "id": "431384fd-822a-4ace-a5b6-511e7b118eee",
   "metadata": {},
   "outputs": [
    {
     "name": "stdout",
     "output_type": "stream",
     "text": [
      "<class 'pandas.core.frame.DataFrame'>\n",
      "<class 'pandas.core.frame.DataFrame'>\n",
      "<class 'list'>\n",
      "<class 'dict'>\n",
      "<class 'dict'>\n",
      "<class 'dict'>\n",
      "<class 'dict'>\n",
      "<class 'dict'>\n"
     ]
    }
   ],
   "source": [
    "for key in col_dict.keys():\n",
    "    print(type(col_dict[key]))"
   ]
  },
  {
   "cell_type": "code",
   "execution_count": 37,
   "id": "d9694579-60fe-4f30-86d0-588ccd2f35e9",
   "metadata": {},
   "outputs": [],
   "source": [
    "t2d_abundance = pd.DataFrame(t2d_dict[\"abundance_profile\"])\n",
    "t2d_marker = pd.DataFrame(t2d_dict[\"marker_profile\"])\n",
    "t2d_abundance.to_csv(f\"{ROOT_PATH}/data/mm-graph/T2D_Abundance_Profile.csv\")\n",
    "t2d_marker.to_csv(f\"{ROOT_PATH}/data/mm-graph/T2D_Marker_Profile.csv\")"
   ]
  },
  {
   "cell_type": "code",
   "execution_count": 38,
   "id": "8709b593-82d1-4bb6-8177-f9fe48f0e929",
   "metadata": {},
   "outputs": [
    {
     "data": {
      "text/plain": [
       "(344, 120001)"
      ]
     },
     "execution_count": 38,
     "metadata": {},
     "output_type": "execute_result"
    }
   ],
   "source": [
    "t2d_marker.shape"
   ]
  },
  {
   "cell_type": "code",
   "execution_count": 60,
   "id": "726f3e26-f0ae-4ce0-9c96-13d2f6b0cd44",
   "metadata": {},
   "outputs": [
    {
     "data": {
      "text/html": [
       "<div>\n",
       "<style scoped>\n",
       "    .dataframe tbody tr th:only-of-type {\n",
       "        vertical-align: middle;\n",
       "    }\n",
       "\n",
       "    .dataframe tbody tr th {\n",
       "        vertical-align: top;\n",
       "    }\n",
       "\n",
       "    .dataframe thead th {\n",
       "        text-align: right;\n",
       "    }\n",
       "</style>\n",
       "<table border=\"1\" class=\"dataframe\">\n",
       "  <thead>\n",
       "    <tr style=\"text-align: right;\">\n",
       "      <th>dataset_name</th>\n",
       "      <th>ID@subjectID</th>\n",
       "      <th>CLI@bodysite</th>\n",
       "      <th>Y@disease</th>\n",
       "      <th>CLI@age</th>\n",
       "      <th>CLI@gender</th>\n",
       "      <th>CLI@country</th>\n",
       "      <th>CLI@sequencing_technology</th>\n",
       "      <th>CLI@pubmedid</th>\n",
       "      <th>CLI@camp</th>\n",
       "      <th>CLI@paired_end_insert_size</th>\n",
       "      <th>...</th>\n",
       "      <th>X@gi|83286007|ref|XM_724880.1|</th>\n",
       "      <th>X@gi|83591340|ref|NC_007643.1|:3854287-3855165</th>\n",
       "      <th>X@gi|83956146|ref|NZ_AALZ01000014.1|:c71868-71287</th>\n",
       "      <th>X@gi|84389706|ref|NZ_AAMR01000024.1|:c62016-61705</th>\n",
       "      <th>X@gi|85057280|ref|NC_007716.1|:178414-178599</th>\n",
       "      <th>X@gi|85057280|ref|NC_007716.1|:195234-195935</th>\n",
       "      <th>X@gi|88607955|ref|NC_007798.1|:118090-119082</th>\n",
       "      <th>X@gi|88797415|ref|NZ_AAOE01000002.1|:c235147-234506</th>\n",
       "      <th>X@gi|89892746|ref|NC_007907.1|:c3938880-3937900</th>\n",
       "      <th>X@gi|94502223|ref|NZ_AANL01000001.1|:c8848-8444</th>\n",
       "    </tr>\n",
       "    <tr>\n",
       "      <th>ID@sampleID</th>\n",
       "      <th></th>\n",
       "      <th></th>\n",
       "      <th></th>\n",
       "      <th></th>\n",
       "      <th></th>\n",
       "      <th></th>\n",
       "      <th></th>\n",
       "      <th></th>\n",
       "      <th></th>\n",
       "      <th></th>\n",
       "      <th></th>\n",
       "      <th></th>\n",
       "      <th></th>\n",
       "      <th></th>\n",
       "      <th></th>\n",
       "      <th></th>\n",
       "      <th></th>\n",
       "      <th></th>\n",
       "      <th></th>\n",
       "      <th></th>\n",
       "      <th></th>\n",
       "    </tr>\n",
       "  </thead>\n",
       "  <tbody>\n",
       "    <tr>\n",
       "      <th>CON-001</th>\n",
       "      <td>con-001</td>\n",
       "      <td>stool</td>\n",
       "      <td>n</td>\n",
       "      <td>21</td>\n",
       "      <td>female</td>\n",
       "      <td>china</td>\n",
       "      <td>Illumina</td>\n",
       "      <td>23023125</td>\n",
       "      <td>nd</td>\n",
       "      <td>nd</td>\n",
       "      <td>...</td>\n",
       "      <td>0</td>\n",
       "      <td>0</td>\n",
       "      <td>0</td>\n",
       "      <td>0</td>\n",
       "      <td>0</td>\n",
       "      <td>0</td>\n",
       "      <td>0</td>\n",
       "      <td>0</td>\n",
       "      <td>0</td>\n",
       "      <td>0</td>\n",
       "    </tr>\n",
       "    <tr>\n",
       "      <th>CON-002</th>\n",
       "      <td>con-002</td>\n",
       "      <td>stool</td>\n",
       "      <td>n</td>\n",
       "      <td>53</td>\n",
       "      <td>female</td>\n",
       "      <td>china</td>\n",
       "      <td>Illumina</td>\n",
       "      <td>23023125</td>\n",
       "      <td>nd</td>\n",
       "      <td>nd</td>\n",
       "      <td>...</td>\n",
       "      <td>0</td>\n",
       "      <td>0</td>\n",
       "      <td>0</td>\n",
       "      <td>0</td>\n",
       "      <td>0</td>\n",
       "      <td>0</td>\n",
       "      <td>0</td>\n",
       "      <td>0</td>\n",
       "      <td>0</td>\n",
       "      <td>0</td>\n",
       "    </tr>\n",
       "    <tr>\n",
       "      <th>CON-003</th>\n",
       "      <td>con-003</td>\n",
       "      <td>stool</td>\n",
       "      <td>n</td>\n",
       "      <td>61</td>\n",
       "      <td>female</td>\n",
       "      <td>china</td>\n",
       "      <td>Illumina</td>\n",
       "      <td>23023125</td>\n",
       "      <td>nd</td>\n",
       "      <td>nd</td>\n",
       "      <td>...</td>\n",
       "      <td>0</td>\n",
       "      <td>0</td>\n",
       "      <td>0</td>\n",
       "      <td>0</td>\n",
       "      <td>0</td>\n",
       "      <td>0</td>\n",
       "      <td>0</td>\n",
       "      <td>0</td>\n",
       "      <td>0</td>\n",
       "      <td>0</td>\n",
       "    </tr>\n",
       "    <tr>\n",
       "      <th>CON-004</th>\n",
       "      <td>con-004</td>\n",
       "      <td>stool</td>\n",
       "      <td>n</td>\n",
       "      <td>55</td>\n",
       "      <td>female</td>\n",
       "      <td>china</td>\n",
       "      <td>Illumina</td>\n",
       "      <td>23023125</td>\n",
       "      <td>nd</td>\n",
       "      <td>nd</td>\n",
       "      <td>...</td>\n",
       "      <td>0</td>\n",
       "      <td>0</td>\n",
       "      <td>0</td>\n",
       "      <td>0</td>\n",
       "      <td>0</td>\n",
       "      <td>0</td>\n",
       "      <td>0</td>\n",
       "      <td>0</td>\n",
       "      <td>0</td>\n",
       "      <td>0</td>\n",
       "    </tr>\n",
       "    <tr>\n",
       "      <th>CON-005</th>\n",
       "      <td>con-005</td>\n",
       "      <td>stool</td>\n",
       "      <td>n</td>\n",
       "      <td>53</td>\n",
       "      <td>female</td>\n",
       "      <td>china</td>\n",
       "      <td>Illumina</td>\n",
       "      <td>23023125</td>\n",
       "      <td>nd</td>\n",
       "      <td>nd</td>\n",
       "      <td>...</td>\n",
       "      <td>0</td>\n",
       "      <td>0</td>\n",
       "      <td>0</td>\n",
       "      <td>0</td>\n",
       "      <td>0</td>\n",
       "      <td>0</td>\n",
       "      <td>0</td>\n",
       "      <td>0</td>\n",
       "      <td>0</td>\n",
       "      <td>0</td>\n",
       "    </tr>\n",
       "  </tbody>\n",
       "</table>\n",
       "<p>5 rows × 120001 columns</p>\n",
       "</div>"
      ],
      "text/plain": [
       "dataset_name ID@subjectID CLI@bodysite Y@disease CLI@age CLI@gender  \\\n",
       "ID@sampleID                                                           \n",
       "CON-001           con-001        stool         n      21     female   \n",
       "CON-002           con-002        stool         n      53     female   \n",
       "CON-003           con-003        stool         n      61     female   \n",
       "CON-004           con-004        stool         n      55     female   \n",
       "CON-005           con-005        stool         n      53     female   \n",
       "\n",
       "dataset_name CLI@country CLI@sequencing_technology CLI@pubmedid CLI@camp  \\\n",
       "ID@sampleID                                                                \n",
       "CON-001            china                  Illumina     23023125       nd   \n",
       "CON-002            china                  Illumina     23023125       nd   \n",
       "CON-003            china                  Illumina     23023125       nd   \n",
       "CON-004            china                  Illumina     23023125       nd   \n",
       "CON-005            china                  Illumina     23023125       nd   \n",
       "\n",
       "dataset_name CLI@paired_end_insert_size  ... X@gi|83286007|ref|XM_724880.1|  \\\n",
       "ID@sampleID                              ...                                  \n",
       "CON-001                              nd  ...                              0   \n",
       "CON-002                              nd  ...                              0   \n",
       "CON-003                              nd  ...                              0   \n",
       "CON-004                              nd  ...                              0   \n",
       "CON-005                              nd  ...                              0   \n",
       "\n",
       "dataset_name X@gi|83591340|ref|NC_007643.1|:3854287-3855165  \\\n",
       "ID@sampleID                                                   \n",
       "CON-001                                                   0   \n",
       "CON-002                                                   0   \n",
       "CON-003                                                   0   \n",
       "CON-004                                                   0   \n",
       "CON-005                                                   0   \n",
       "\n",
       "dataset_name X@gi|83956146|ref|NZ_AALZ01000014.1|:c71868-71287  \\\n",
       "ID@sampleID                                                      \n",
       "CON-001                                                      0   \n",
       "CON-002                                                      0   \n",
       "CON-003                                                      0   \n",
       "CON-004                                                      0   \n",
       "CON-005                                                      0   \n",
       "\n",
       "dataset_name X@gi|84389706|ref|NZ_AAMR01000024.1|:c62016-61705  \\\n",
       "ID@sampleID                                                      \n",
       "CON-001                                                      0   \n",
       "CON-002                                                      0   \n",
       "CON-003                                                      0   \n",
       "CON-004                                                      0   \n",
       "CON-005                                                      0   \n",
       "\n",
       "dataset_name X@gi|85057280|ref|NC_007716.1|:178414-178599  \\\n",
       "ID@sampleID                                                 \n",
       "CON-001                                                 0   \n",
       "CON-002                                                 0   \n",
       "CON-003                                                 0   \n",
       "CON-004                                                 0   \n",
       "CON-005                                                 0   \n",
       "\n",
       "dataset_name X@gi|85057280|ref|NC_007716.1|:195234-195935  \\\n",
       "ID@sampleID                                                 \n",
       "CON-001                                                 0   \n",
       "CON-002                                                 0   \n",
       "CON-003                                                 0   \n",
       "CON-004                                                 0   \n",
       "CON-005                                                 0   \n",
       "\n",
       "dataset_name X@gi|88607955|ref|NC_007798.1|:118090-119082  \\\n",
       "ID@sampleID                                                 \n",
       "CON-001                                                 0   \n",
       "CON-002                                                 0   \n",
       "CON-003                                                 0   \n",
       "CON-004                                                 0   \n",
       "CON-005                                                 0   \n",
       "\n",
       "dataset_name X@gi|88797415|ref|NZ_AAOE01000002.1|:c235147-234506  \\\n",
       "ID@sampleID                                                        \n",
       "CON-001                                                       0    \n",
       "CON-002                                                       0    \n",
       "CON-003                                                       0    \n",
       "CON-004                                                       0    \n",
       "CON-005                                                       0    \n",
       "\n",
       "dataset_name X@gi|89892746|ref|NC_007907.1|:c3938880-3937900  \\\n",
       "ID@sampleID                                                    \n",
       "CON-001                                                    0   \n",
       "CON-002                                                    0   \n",
       "CON-003                                                    0   \n",
       "CON-004                                                    0   \n",
       "CON-005                                                    0   \n",
       "\n",
       "dataset_name X@gi|94502223|ref|NZ_AANL01000001.1|:c8848-8444  \n",
       "ID@sampleID                                                   \n",
       "CON-001                                                    0  \n",
       "CON-002                                                    0  \n",
       "CON-003                                                    0  \n",
       "CON-004                                                    0  \n",
       "CON-005                                                    0  \n",
       "\n",
       "[5 rows x 120001 columns]"
      ]
     },
     "execution_count": 60,
     "metadata": {},
     "output_type": "execute_result"
    }
   ],
   "source": [
    "t2d_marker.head()"
   ]
  },
  {
   "cell_type": "code",
   "execution_count": 61,
   "id": "b9383d22-2288-4884-a0ca-2d202c15a7a2",
   "metadata": {},
   "outputs": [
    {
     "name": "stdout",
     "output_type": "stream",
     "text": [
      "NUMBER OF MICROBES: 119793\n"
     ]
    }
   ],
   "source": [
    "#Microbe count\n",
    "match = \"X@gi\"\n",
    "for column in t2d_marker.columns:\n",
    "    if re.match(match, column):\n",
    "        c += 1\n",
    "    else:\n",
    "        continue\n",
    "print(f\"NUMBER OF MICROBES: {c}\")"
   ]
  },
  {
   "cell_type": "code",
   "execution_count": 62,
   "id": "2b0b9506-c258-4b09-aba7-24c23fb8c3c0",
   "metadata": {},
   "outputs": [
    {
     "name": "stdout",
     "output_type": "stream",
     "text": [
      "Illumina\n"
     ]
    }
   ],
   "source": [
    "#Sequencing tech tyoes\n",
    "sequencing_tech = t2d_marker[\"CLI@sequencing_technology\"].unique().tolist()\n",
    "for tech in sequencing_tech:\n",
    "    print(tech)"
   ]
  },
  {
   "cell_type": "code",
   "execution_count": 64,
   "id": "375bb4d0-10b3-4542-8196-1ed42a81a97c",
   "metadata": {},
   "outputs": [
    {
     "name": "stdout",
     "output_type": "stream",
     "text": [
      "Counter({'male': 190, 'female': 154})\n"
     ]
    }
   ],
   "source": [
    "#gender distribution\n",
    "gender = t2d_marker[\"CLI@gender\"].tolist()\n",
    "c = Counter(gender)\n",
    "print(c)"
   ]
  },
  {
   "cell_type": "code",
   "execution_count": 59,
   "id": "81161eb0-51b1-49e0-b95a-4f53bd7fcb32",
   "metadata": {},
   "outputs": [
    {
     "name": "stdout",
     "output_type": "stream",
     "text": [
      "NO DUPLICATES\n"
     ]
    }
   ],
   "source": [
    "#checking duplicates\n",
    "column_list = list(t2d_marker.columns)\n",
    "column_set = set(column_list)\n",
    "if len(list(column_set)) == len(column_list):\n",
    "    print(\"NO DUPLICATES\")\n",
    "else:\n",
    "    print(\"DUPLICATES DETECTED\")"
   ]
  },
  {
   "cell_type": "code",
   "execution_count": 66,
   "id": "4e8d7ff4-e8fa-40af-8a38-2360866ae421",
   "metadata": {},
   "outputs": [
    {
     "name": "stdout",
     "output_type": "stream",
     "text": [
      "SPARSITY: 0.8880357251018044\n"
     ]
    }
   ],
   "source": [
    "#overall sparsity of microbes\n",
    "t2d_marker_microbes = t2d_marker.filter(regex = \"^X@gi\")\n",
    "t2d_marker_microbes = t2d_marker_microbes.astype(int)\n",
    "t2d_matrix = t2d_marker_microbes.to_numpy()\n",
    "print(\"SPARSITY: {}\".format((t2d_matrix ==0).mean()))"
   ]
  },
  {
   "cell_type": "code",
   "execution_count": 65,
   "id": "632b2fdb-643f-4320-898f-edc7c7f27baa",
   "metadata": {},
   "outputs": [
    {
     "name": "stdout",
     "output_type": "stream",
     "text": [
      "TOTAL: 344\n",
      "TRUE_NEG: 174\n",
      "TRUE_POS: 170\n"
     ]
    }
   ],
   "source": [
    "#label counts\n",
    "label_count = len(t2d_marker)\n",
    "label_false = t2d_marker.loc[t2d_marker[\"Y@disease\"] == \"n\"]\n",
    "false_count = len(label_false)\n",
    "true_count = label_count - false_count\n",
    "\n",
    "print(f\"TOTAL: {label_count}\\nTRUE_NEG: {false_count}\\nTRUE_POS: {true_count}\")"
   ]
  },
  {
   "cell_type": "code",
   "execution_count": 58,
   "id": "dc4555b4-88db-400b-add2-fadbcb8c812c",
   "metadata": {},
   "outputs": [
    {
     "data": {
      "image/png": "[encoded data removed]",
      "text/plain": [
       "<Figure size 432x288 with 1 Axes>"
      ]
     },
     "metadata": {
      "needs_background": "light"
     },
     "output_type": "display_data"
    },
    {
     "name": "stdout",
     "output_type": "stream",
     "text": [
      "mean age:47.526162790697676\n"
     ]
    }
   ],
   "source": [
    "#age distribution\n",
    "import matplotlib.pyplot as plt\n",
    "age_list = list(t2d_marker[\"CLI@age\"].astype(int))\n",
    "n_bins=50\n",
    "plt.hist(age_list, n_bins)\n",
    "plt.xlabel(\"age\")\n",
    "plt.ylabel(\"Number of people\")\n",
    "plt.show()\n",
    "print(f\"mean age:{np.array(age_list).mean()}\")"
   ]
  },
  {
   "cell_type": "code",
   "execution_count": 95,
   "id": "75abb349-e70c-490b-bf26-c7f656d91063",
   "metadata": {},
   "outputs": [
    {
     "data": {
      "image/png": "[encoded data removed]",
      "text/plain": [
       "<Figure size 432x288 with 1 Axes>"
      ]
     },
     "metadata": {
      "needs_background": "light"
     },
     "output_type": "display_data"
    },
    {
     "name": "stdout",
     "output_type": "stream",
     "text": [
      "No 0 occurence microbe found\n"
     ]
    }
   ],
   "source": [
    "#bacteria abundance distribution\n",
    "bacteria_count = np.count_nonzero(t2d_matrix, axis=0)\n",
    "plt.hist(bacteria_count, 100)\n",
    "plt.xlabel(\"Occurrence\")\n",
    "plt.ylabel(\"Number of microbes\")\n",
    "plt.show()\n",
    "\n",
    "#checking number of bacterias with 0 occurences\n",
    "if 0 in list(np.unique(bacteria_count)):\n",
    "    print(\"0 occurence microbe found\")\n",
    "else: print(\"No 0 occurence microbe found\")"
   ]
  },
  {
   "cell_type": "code",
   "execution_count": 94,
   "id": "c365083c-bb42-48bb-b138-401be7649d04",
   "metadata": {},
   "outputs": [
    {
     "data": {
      "image/png": "[encoded data removed]",
      "text/plain": [
       "<Figure size 432x288 with 1 Axes>"
      ]
     },
     "metadata": {
      "needs_background": "light"
     },
     "output_type": "display_data"
    }
   ],
   "source": [
    "#Distribution of no. of bacteria in people\n",
    "bacteria_per_person = np.count_nonzero(t2d_matrix, axis=1)\n",
    "plt.hist(bacteria_per_person, 100)\n",
    "plt.xlabel(\"Number of microbes\")\n",
    "plt.ylabel(\"Number of people\")\n",
    "plt.show()"
   ]
  },
  {
   "cell_type": "code",
   "execution_count": 115,
   "id": "70156350-cb61-4cf9-a6f5-1a1b3c7e0d2f",
   "metadata": {},
   "outputs": [
    {
     "name": "stdout",
     "output_type": "stream",
     "text": [
      "FEATURES WITH ONLY ONE VALUE: 190\n"
     ]
    }
   ],
   "source": [
    "#\"Useless\" columns\n",
    "cli_features = t2d_marker.filter(regex = \"^CLI@\")\n",
    "onecount = 0\n",
    "useless_columns = []\n",
    "for col in cli_features.columns:\n",
    "    if (len(cli_features[col].unique()) == 1):\n",
    "        #print(cli_features[col].unique())\n",
    "        onecount +=1\n",
    "        useless_columns.append(col)\n",
    "\n",
    "print(\"FEATURES WITH ONLY ONE VALUE:\", onecount)\n",
    "#for col in useless_columns:\n",
    "#    print(col)"
   ]
  },
  {
   "cell_type": "code",
   "execution_count": null,
   "id": "8fd10e50-4073-4939-a54b-7011a87de78d",
   "metadata": {},
   "outputs": [],
   "source": []
  }
 ],
 "metadata": {
  "kernelspec": {
   "display_name": "Python [conda env:dti]",
   "language": "python",
   "name": "conda-env-dti-py"
  },
  "language_info": {
   "codemirror_mode": {
    "name": "ipython",
    "version": 3
   },
   "file_extension": ".py",
   "mimetype": "text/x-python",
   "name": "python",
   "nbconvert_exporter": "python",
   "pygments_lexer": "ipython3",
   "version": "3.9.7"
  }
 },
 "nbformat": 4,
 "nbformat_minor": 5
}
