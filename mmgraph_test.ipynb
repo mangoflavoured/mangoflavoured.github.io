{
 "cells": [
  {
   "cell_type": "code",
   "execution_count": 2,
   "id": "d9da3367-5e7c-4491-b7ce-46a1cc2ed6f3",
   "metadata": {},
   "outputs": [],
   "source": [
    "import pandas as pd\n",
    "import pickle \n",
    "import numpy as np\n",
    "import networkx as nx\n",
    "import re\n",
    "from collections import Counter\n",
    "import plotly.express as px\n",
    "\n",
    "ROOT_PATH = '/home/chiwon/workspace/vmh_workbook/mangoflavoured.github.io'\n",
    "graphs = [\"Colorectal\", \"IBD\", \"Obesity\", \"T2D\", \"WT2D\"] #Cirrhosis: error|"
   ]
  },
  {
   "cell_type": "code",
   "execution_count": 4,
   "id": "f50ac81b-a9e6-42de-b37e-8cbd2fc8000c",
   "metadata": {},
   "outputs": [
    {
     "name": "stdout",
     "output_type": "stream",
     "text": [
      "dict_keys(['abundance_profile', 'marker_profile', 'microbe_names', 'fold_idx_1', 'fold_idx_2', 'fold_idx_3', 'fold_idx_4', 'fold_idx_5'])\n"
     ]
    }
   ],
   "source": [
    "with open(f\"{ROOT_PATH}/data/mm-graph/preprocessed_T2D.pkl\", \"rb\") as h:\n",
    "    t2d_dict = pickle.load(h)\n",
    "    print(t2d_dict.keys())"
   ]
  },
  {
   "cell_type": "code",
   "execution_count": 5,
   "id": "431384fd-822a-4ace-a5b6-511e7b118eee",
   "metadata": {},
   "outputs": [
    {
     "name": "stdout",
     "output_type": "stream",
     "text": [
      "<class 'pandas.core.frame.DataFrame'>\n",
      "<class 'pandas.core.frame.DataFrame'>\n",
      "<class 'list'>\n",
      "<class 'dict'>\n",
      "<class 'dict'>\n",
      "<class 'dict'>\n",
      "<class 'dict'>\n",
      "<class 'dict'>\n"
     ]
    }
   ],
   "source": [
    "for key in t2d_dict.keys():\n",
    "    print(type(t2d_dict[key]))"
   ]
  },
  {
   "cell_type": "code",
   "execution_count": 6,
   "id": "d9694579-60fe-4f30-86d0-588ccd2f35e9",
   "metadata": {},
   "outputs": [],
   "source": [
    "t2d_abundance = pd.DataFrame(t2d_dict[\"abundance_profile\"])\n",
    "t2d_marker = pd.DataFrame(t2d_dict[\"marker_profile\"])\n",
    "t2d_abundance.to_csv(f\"{ROOT_PATH}/data/mm-graph/T2D_Abundance_Profile.csv\")\n",
    "t2d_marker.to_csv(f\"{ROOT_PATH}/data/mm-graph/T2D_Marker_Profile.csv\")"
   ]
  },
  {
   "cell_type": "code",
   "execution_count": 7,
   "id": "8709b593-82d1-4bb6-8177-f9fe48f0e929",
   "metadata": {},
   "outputs": [
    {
     "data": {
      "text/plain": [
       "(344, 120001)"
      ]
     },
     "execution_count": 7,
     "metadata": {},
     "output_type": "execute_result"
    }
   ],
   "source": [
    "t2d_marker.shape"
   ]
  },
  {
   "cell_type": "code",
   "execution_count": 8,
   "id": "726f3e26-f0ae-4ce0-9c96-13d2f6b0cd44",
   "metadata": {},
   "outputs": [
    {
     "data": {
      "text/html": [
       "<div>\n",
       "<style scoped>\n",
       "    .dataframe tbody tr th:only-of-type {\n",
       "        vertical-align: middle;\n",
       "    }\n",
       "\n",
       "    .dataframe tbody tr th {\n",
       "        vertical-align: top;\n",
       "    }\n",
       "\n",
       "    .dataframe thead th {\n",
       "        text-align: right;\n",
       "    }\n",
       "</style>\n",
       "<table border=\"1\" class=\"dataframe\">\n",
       "  <thead>\n",
       "    <tr style=\"text-align: right;\">\n",
       "      <th>dataset_name</th>\n",
       "      <th>ID@subjectID</th>\n",
       "      <th>CLI@bodysite</th>\n",
       "      <th>Y@disease</th>\n",
       "      <th>CLI@age</th>\n",
       "      <th>CLI@gender</th>\n",
       "      <th>CLI@country</th>\n",
       "      <th>CLI@sequencing_technology</th>\n",
       "      <th>CLI@pubmedid</th>\n",
       "      <th>CLI@camp</th>\n",
       "      <th>CLI@paired_end_insert_size</th>\n",
       "      <th>...</th>\n",
       "      <th>X@gi|83286007|ref|XM_724880.1|</th>\n",
       "      <th>X@gi|83591340|ref|NC_007643.1|:3854287-3855165</th>\n",
       "      <th>X@gi|83956146|ref|NZ_AALZ01000014.1|:c71868-71287</th>\n",
       "      <th>X@gi|84389706|ref|NZ_AAMR01000024.1|:c62016-61705</th>\n",
       "      <th>X@gi|85057280|ref|NC_007716.1|:178414-178599</th>\n",
       "      <th>X@gi|85057280|ref|NC_007716.1|:195234-195935</th>\n",
       "      <th>X@gi|88607955|ref|NC_007798.1|:118090-119082</th>\n",
       "      <th>X@gi|88797415|ref|NZ_AAOE01000002.1|:c235147-234506</th>\n",
       "      <th>X@gi|89892746|ref|NC_007907.1|:c3938880-3937900</th>\n",
       "      <th>X@gi|94502223|ref|NZ_AANL01000001.1|:c8848-8444</th>\n",
       "    </tr>\n",
       "    <tr>\n",
       "      <th>ID@sampleID</th>\n",
       "      <th></th>\n",
       "      <th></th>\n",
       "      <th></th>\n",
       "      <th></th>\n",
       "      <th></th>\n",
       "      <th></th>\n",
       "      <th></th>\n",
       "      <th></th>\n",
       "      <th></th>\n",
       "      <th></th>\n",
       "      <th></th>\n",
       "      <th></th>\n",
       "      <th></th>\n",
       "      <th></th>\n",
       "      <th></th>\n",
       "      <th></th>\n",
       "      <th></th>\n",
       "      <th></th>\n",
       "      <th></th>\n",
       "      <th></th>\n",
       "      <th></th>\n",
       "    </tr>\n",
       "  </thead>\n",
       "  <tbody>\n",
       "    <tr>\n",
       "      <th>CON-001</th>\n",
       "      <td>con-001</td>\n",
       "      <td>stool</td>\n",
       "      <td>n</td>\n",
       "      <td>21</td>\n",
       "      <td>female</td>\n",
       "      <td>china</td>\n",
       "      <td>Illumina</td>\n",
       "      <td>23023125</td>\n",
       "      <td>nd</td>\n",
       "      <td>nd</td>\n",
       "      <td>...</td>\n",
       "      <td>0</td>\n",
       "      <td>0</td>\n",
       "      <td>0</td>\n",
       "      <td>0</td>\n",
       "      <td>0</td>\n",
       "      <td>0</td>\n",
       "      <td>0</td>\n",
       "      <td>0</td>\n",
       "      <td>0</td>\n",
       "      <td>0</td>\n",
       "    </tr>\n",
       "    <tr>\n",
       "      <th>CON-002</th>\n",
       "      <td>con-002</td>\n",
       "      <td>stool</td>\n",
       "      <td>n</td>\n",
       "      <td>53</td>\n",
       "      <td>female</td>\n",
       "      <td>china</td>\n",
       "      <td>Illumina</td>\n",
       "      <td>23023125</td>\n",
       "      <td>nd</td>\n",
       "      <td>nd</td>\n",
       "      <td>...</td>\n",
       "      <td>0</td>\n",
       "      <td>0</td>\n",
       "      <td>0</td>\n",
       "      <td>0</td>\n",
       "      <td>0</td>\n",
       "      <td>0</td>\n",
       "      <td>0</td>\n",
       "      <td>0</td>\n",
       "      <td>0</td>\n",
       "      <td>0</td>\n",
       "    </tr>\n",
       "    <tr>\n",
       "      <th>CON-003</th>\n",
       "      <td>con-003</td>\n",
       "      <td>stool</td>\n",
       "      <td>n</td>\n",
       "      <td>61</td>\n",
       "      <td>female</td>\n",
       "      <td>china</td>\n",
       "      <td>Illumina</td>\n",
       "      <td>23023125</td>\n",
       "      <td>nd</td>\n",
       "      <td>nd</td>\n",
       "      <td>...</td>\n",
       "      <td>0</td>\n",
       "      <td>0</td>\n",
       "      <td>0</td>\n",
       "      <td>0</td>\n",
       "      <td>0</td>\n",
       "      <td>0</td>\n",
       "      <td>0</td>\n",
       "      <td>0</td>\n",
       "      <td>0</td>\n",
       "      <td>0</td>\n",
       "    </tr>\n",
       "    <tr>\n",
       "      <th>CON-004</th>\n",
       "      <td>con-004</td>\n",
       "      <td>stool</td>\n",
       "      <td>n</td>\n",
       "      <td>55</td>\n",
       "      <td>female</td>\n",
       "      <td>china</td>\n",
       "      <td>Illumina</td>\n",
       "      <td>23023125</td>\n",
       "      <td>nd</td>\n",
       "      <td>nd</td>\n",
       "      <td>...</td>\n",
       "      <td>0</td>\n",
       "      <td>0</td>\n",
       "      <td>0</td>\n",
       "      <td>0</td>\n",
       "      <td>0</td>\n",
       "      <td>0</td>\n",
       "      <td>0</td>\n",
       "      <td>0</td>\n",
       "      <td>0</td>\n",
       "      <td>0</td>\n",
       "    </tr>\n",
       "    <tr>\n",
       "      <th>CON-005</th>\n",
       "      <td>con-005</td>\n",
       "      <td>stool</td>\n",
       "      <td>n</td>\n",
       "      <td>53</td>\n",
       "      <td>female</td>\n",
       "      <td>china</td>\n",
       "      <td>Illumina</td>\n",
       "      <td>23023125</td>\n",
       "      <td>nd</td>\n",
       "      <td>nd</td>\n",
       "      <td>...</td>\n",
       "      <td>0</td>\n",
       "      <td>0</td>\n",
       "      <td>0</td>\n",
       "      <td>0</td>\n",
       "      <td>0</td>\n",
       "      <td>0</td>\n",
       "      <td>0</td>\n",
       "      <td>0</td>\n",
       "      <td>0</td>\n",
       "      <td>0</td>\n",
       "    </tr>\n",
       "  </tbody>\n",
       "</table>\n",
       "<p>5 rows × 120001 columns</p>\n",
       "</div>"
      ],
      "text/plain": [
       "dataset_name ID@subjectID CLI@bodysite Y@disease CLI@age CLI@gender  \\\n",
       "ID@sampleID                                                           \n",
       "CON-001           con-001        stool         n      21     female   \n",
       "CON-002           con-002        stool         n      53     female   \n",
       "CON-003           con-003        stool         n      61     female   \n",
       "CON-004           con-004        stool         n      55     female   \n",
       "CON-005           con-005        stool         n      53     female   \n",
       "\n",
       "dataset_name CLI@country CLI@sequencing_technology CLI@pubmedid CLI@camp  \\\n",
       "ID@sampleID                                                                \n",
       "CON-001            china                  Illumina     23023125       nd   \n",
       "CON-002            china                  Illumina     23023125       nd   \n",
       "CON-003            china                  Illumina     23023125       nd   \n",
       "CON-004            china                  Illumina     23023125       nd   \n",
       "CON-005            china                  Illumina     23023125       nd   \n",
       "\n",
       "dataset_name CLI@paired_end_insert_size  ... X@gi|83286007|ref|XM_724880.1|  \\\n",
       "ID@sampleID                              ...                                  \n",
       "CON-001                              nd  ...                              0   \n",
       "CON-002                              nd  ...                              0   \n",
       "CON-003                              nd  ...                              0   \n",
       "CON-004                              nd  ...                              0   \n",
       "CON-005                              nd  ...                              0   \n",
       "\n",
       "dataset_name X@gi|83591340|ref|NC_007643.1|:3854287-3855165  \\\n",
       "ID@sampleID                                                   \n",
       "CON-001                                                   0   \n",
       "CON-002                                                   0   \n",
       "CON-003                                                   0   \n",
       "CON-004                                                   0   \n",
       "CON-005                                                   0   \n",
       "\n",
       "dataset_name X@gi|83956146|ref|NZ_AALZ01000014.1|:c71868-71287  \\\n",
       "ID@sampleID                                                      \n",
       "CON-001                                                      0   \n",
       "CON-002                                                      0   \n",
       "CON-003                                                      0   \n",
       "CON-004                                                      0   \n",
       "CON-005                                                      0   \n",
       "\n",
       "dataset_name X@gi|84389706|ref|NZ_AAMR01000024.1|:c62016-61705  \\\n",
       "ID@sampleID                                                      \n",
       "CON-001                                                      0   \n",
       "CON-002                                                      0   \n",
       "CON-003                                                      0   \n",
       "CON-004                                                      0   \n",
       "CON-005                                                      0   \n",
       "\n",
       "dataset_name X@gi|85057280|ref|NC_007716.1|:178414-178599  \\\n",
       "ID@sampleID                                                 \n",
       "CON-001                                                 0   \n",
       "CON-002                                                 0   \n",
       "CON-003                                                 0   \n",
       "CON-004                                                 0   \n",
       "CON-005                                                 0   \n",
       "\n",
       "dataset_name X@gi|85057280|ref|NC_007716.1|:195234-195935  \\\n",
       "ID@sampleID                                                 \n",
       "CON-001                                                 0   \n",
       "CON-002                                                 0   \n",
       "CON-003                                                 0   \n",
       "CON-004                                                 0   \n",
       "CON-005                                                 0   \n",
       "\n",
       "dataset_name X@gi|88607955|ref|NC_007798.1|:118090-119082  \\\n",
       "ID@sampleID                                                 \n",
       "CON-001                                                 0   \n",
       "CON-002                                                 0   \n",
       "CON-003                                                 0   \n",
       "CON-004                                                 0   \n",
       "CON-005                                                 0   \n",
       "\n",
       "dataset_name X@gi|88797415|ref|NZ_AAOE01000002.1|:c235147-234506  \\\n",
       "ID@sampleID                                                        \n",
       "CON-001                                                       0    \n",
       "CON-002                                                       0    \n",
       "CON-003                                                       0    \n",
       "CON-004                                                       0    \n",
       "CON-005                                                       0    \n",
       "\n",
       "dataset_name X@gi|89892746|ref|NC_007907.1|:c3938880-3937900  \\\n",
       "ID@sampleID                                                    \n",
       "CON-001                                                    0   \n",
       "CON-002                                                    0   \n",
       "CON-003                                                    0   \n",
       "CON-004                                                    0   \n",
       "CON-005                                                    0   \n",
       "\n",
       "dataset_name X@gi|94502223|ref|NZ_AANL01000001.1|:c8848-8444  \n",
       "ID@sampleID                                                   \n",
       "CON-001                                                    0  \n",
       "CON-002                                                    0  \n",
       "CON-003                                                    0  \n",
       "CON-004                                                    0  \n",
       "CON-005                                                    0  \n",
       "\n",
       "[5 rows x 120001 columns]"
      ]
     },
     "execution_count": 8,
     "metadata": {},
     "output_type": "execute_result"
    }
   ],
   "source": [
    "t2d_marker.head()"
   ]
  },
  {
   "cell_type": "code",
   "execution_count": 9,
   "id": "b9383d22-2288-4884-a0ca-2d202c15a7a2",
   "metadata": {},
   "outputs": [
    {
     "name": "stdout",
     "output_type": "stream",
     "text": [
      "NUMBER OF MICROBES: 119792\n"
     ]
    }
   ],
   "source": [
    "#Microbe count\n",
    "match = \"X@gi\"\n",
    "c = 0\n",
    "for column in t2d_marker.columns:\n",
    "    if re.match(match, column):\n",
    "        c += 1\n",
    "    else:\n",
    "        continue\n",
    "print(f\"NUMBER OF MICROBES: {c}\")"
   ]
  },
  {
   "cell_type": "code",
   "execution_count": 10,
   "id": "2b0b9506-c258-4b09-aba7-24c23fb8c3c0",
   "metadata": {},
   "outputs": [
    {
     "name": "stdout",
     "output_type": "stream",
     "text": [
      "Illumina\n"
     ]
    }
   ],
   "source": [
    "#Sequencing tech tyoes\n",
    "sequencing_tech = t2d_marker[\"CLI@sequencing_technology\"].unique().tolist()\n",
    "for tech in sequencing_tech:\n",
    "    print(tech)"
   ]
  },
  {
   "cell_type": "code",
   "execution_count": 11,
   "id": "375bb4d0-10b3-4542-8196-1ed42a81a97c",
   "metadata": {},
   "outputs": [
    {
     "name": "stdout",
     "output_type": "stream",
     "text": [
      "Counter({'male': 190, 'female': 154})\n"
     ]
    }
   ],
   "source": [
    "#gender distribution\n",
    "gender = t2d_marker[\"CLI@gender\"].tolist()\n",
    "c = Counter(gender)\n",
    "print(c)"
   ]
  },
  {
   "cell_type": "code",
   "execution_count": 12,
   "id": "81161eb0-51b1-49e0-b95a-4f53bd7fcb32",
   "metadata": {},
   "outputs": [
    {
     "name": "stdout",
     "output_type": "stream",
     "text": [
      "NO DUPLICATES\n"
     ]
    }
   ],
   "source": [
    "#checking duplicates\n",
    "column_list = list(t2d_marker.columns)\n",
    "column_set = set(column_list)\n",
    "if len(list(column_set)) == len(column_list):\n",
    "    print(\"NO DUPLICATES\")\n",
    "else:\n",
    "    print(\"DUPLICATES DETECTED\")"
   ]
  },
  {
   "cell_type": "code",
   "execution_count": 13,
   "id": "4e8d7ff4-e8fa-40af-8a38-2360866ae421",
   "metadata": {},
   "outputs": [
    {
     "name": "stdout",
     "output_type": "stream",
     "text": [
      "SPARSITY: 0.8880357251018044\n"
     ]
    }
   ],
   "source": [
    "#overall sparsity of microbes\n",
    "t2d_marker_microbes = t2d_marker.filter(regex = \"^X@gi\")\n",
    "t2d_marker_microbes = t2d_marker_microbes.astype(int)\n",
    "t2d_matrix = t2d_marker_microbes.to_numpy()\n",
    "print(\"SPARSITY: {}\".format((t2d_matrix ==0).mean()))"
   ]
  },
  {
   "cell_type": "code",
   "execution_count": 14,
   "id": "632b2fdb-643f-4320-898f-edc7c7f27baa",
   "metadata": {},
   "outputs": [
    {
     "name": "stdout",
     "output_type": "stream",
     "text": [
      "TOTAL: 344\n",
      "TRUE_NEG: 174\n",
      "TRUE_POS: 170\n"
     ]
    }
   ],
   "source": [
    "#label counts\n",
    "label_count = len(t2d_marker)\n",
    "label_false = t2d_marker.loc[t2d_marker[\"Y@disease\"] == \"n\"]\n",
    "false_count = len(label_false)\n",
    "true_count = label_count - false_count\n",
    "\n",
    "print(f\"TOTAL: {label_count}\\nTRUE_NEG: {false_count}\\nTRUE_POS: {true_count}\")"
   ]
  },
  {
   "cell_type": "code",
   "execution_count": 27,
   "id": "dc4555b4-88db-400b-add2-fadbcb8c812c",
   "metadata": {},
   "outputs": [
    {
     "data": {
      "image/png": "[encoded data removed]",
      "text/plain": [
       "<Figure size 432x288 with 1 Axes>"
      ]
     },
     "metadata": {
      "needs_background": "light"
     },
     "output_type": "display_data"
    }
   ],
   "source": [
    "#age distribution\n",
    "import matplotlib.pyplot as plt\n",
    "#label split\n",
    "t2d_marker_false = t2d_marker.loc[t2d_marker[\"Y@disease\"] == \"n\"] #false as in normal\n",
    "t2d_false_matrix = t2d_marker_false.filter(regex = \"^X@gi\").astype(int).to_numpy()\n",
    "t2d_marker_true = t2d_marker.loc[t2d_marker[\"Y@disease\"] == \"t2d\"] #true as in has diabetes\n",
    "t2d_true_matrix = t2d_marker_true.filter(regex = \"^X@gi\").astype(int).to_numpy()\n",
    "\n",
    "wt_age = t2d_marker_false[\"CLI@age\"].astype(int).tolist()\n",
    "disease_age = t2d_marker_true[\"CLI@age\"].astype(int).tolist()\n",
    "\n",
    "plt.hist(wt_age, 30)\n",
    "plt.xlabel(\"Age\")\n",
    "plt.ylabel(\"Count\")\n",
    "plt.show()"
   ]
  },
  {
   "cell_type": "code",
   "execution_count": 28,
   "id": "07a46b68-19dd-4a9c-a8b0-cc3c886afc1d",
   "metadata": {},
   "outputs": [
    {
     "data": {
      "image/png": "[encoded data removed]",
      "text/plain": [
       "<Figure size 432x288 with 1 Axes>"
      ]
     },
     "metadata": {
      "needs_background": "light"
     },
     "output_type": "display_data"
    }
   ],
   "source": [
    "plt.hist(disease_age, 30)\n",
    "plt.xlabel(\"Age\")\n",
    "plt.ylabel(\"Count\")\n",
    "plt.show()"
   ]
  },
  {
   "cell_type": "code",
   "execution_count": 37,
   "id": "7a86f18a-2eeb-45cf-987d-d282f60b595a",
   "metadata": {},
   "outputs": [
    {
     "name": "stdout",
     "output_type": "stream",
     "text": [
      "[53, 52, 49, 61, 46, 37, 55, 51, 48, 56, 70, 52, 49, 47, 41, 58, 53, 45, 39, 70, 63, 59, 63, 51, 40, 59, 53, 75, 74, 36, 68, 39, 68, 53, 31, 36, 57, 58, 68, 42, 74, 73, 33, 65, 64, 45, 62, 72, 52, 63, 45, 73, 48, 46, 43, 44, 49, 58, 40, 58, 24, 72, 57, 71, 58, 35, 70, 58, 60, 56, 81, 55, 51, 33, 55, 86, 28, 54, 71, 50, 71, 49, 66, 60, 64, 75, 55, 32, 46, 25, 54, 54, 58, 61, 83, 54, 55, 74, 46, 43, 39, 58, 72, 57, 51, 81, 61, 49, 55, 29, 46, 55, 36, 60, 33, 71, 41, 13, 57, 80, 57, 62, 37, 49, 31, 58, 62, 41, 61, 44, 65, 79, 65, 63, 40, 59, 43, 46, 25, 60, 71, 62, 54, 51, 29, 41, 38, 35, 28, 43, 38, 30, 49, 56, 70, 68, 62, 48, 61, 53, 63, 49, 57, 71, 41, 43, 72, 39, 42, 62]\n"
     ]
    }
   ],
   "source": [
    "print(disease_age)"
   ]
  },
  {
   "cell_type": "code",
   "execution_count": 31,
   "id": "75abb349-e70c-490b-bf26-c7f656d91063",
   "metadata": {},
   "outputs": [
    {
     "data": {
      "image/png": "[encoded data removed]",
      "text/plain": [
       "<Figure size 432x288 with 1 Axes>"
      ]
     },
     "metadata": {
      "needs_background": "light"
     },
     "output_type": "display_data"
    }
   ],
   "source": [
    "#bacteria abundance distribution\n",
    "bacteria_count = np.count_nonzero(t2d_false_matrix, axis=0)\n",
    "plt.hist(bacteria_count, 100)\n",
    "plt.xlabel(\"Occurrence\")\n",
    "plt.ylabel(\"Number of microbes\")\n",
    "plt.show()"
   ]
  },
  {
   "cell_type": "code",
   "execution_count": 32,
   "id": "1ca1aa67-719b-4de2-8862-31987c45eea2",
   "metadata": {},
   "outputs": [
    {
     "data": {
      "image/png": "[encoded data removed]",
      "text/plain": [
       "<Figure size 432x288 with 1 Axes>"
      ]
     },
     "metadata": {
      "needs_background": "light"
     },
     "output_type": "display_data"
    }
   ],
   "source": [
    "#bacteria abundance distribution\n",
    "bacteria_count_t2d = np.count_nonzero(t2d_true_matrix, axis=0)\n",
    "plt.hist(bacteria_count_t2d, 100)\n",
    "plt.xlabel(\"Occurrence\")\n",
    "plt.ylabel(\"Number of microbes\")\n",
    "plt.show()"
   ]
  },
  {
   "cell_type": "code",
   "execution_count": 33,
   "id": "c365083c-bb42-48bb-b138-401be7649d04",
   "metadata": {},
   "outputs": [
    {
     "data": {
      "image/png": "[encoded data removed]",
      "text/plain": [
       "<Figure size 432x288 with 1 Axes>"
      ]
     },
     "metadata": {
      "needs_background": "light"
     },
     "output_type": "display_data"
    }
   ],
   "source": [
    "#Distribution of no. of bacteria in people\n",
    "bacteria_per_person = np.count_nonzero(t2d_false_matrix, axis=1)\n",
    "plt.hist(bacteria_per_person, 100)\n",
    "plt.xlabel(\"Number of microbes\")\n",
    "plt.ylabel(\"Number of people\")\n",
    "plt.show()"
   ]
  },
  {
   "cell_type": "code",
   "execution_count": 34,
   "id": "10bb19d7-f954-43a3-a383-05687c3911d8",
   "metadata": {},
   "outputs": [
    {
     "data": {
      "image/png": "[encoded data removed]",
      "text/plain": [
       "<Figure size 432x288 with 1 Axes>"
      ]
     },
     "metadata": {
      "needs_background": "light"
     },
     "output_type": "display_data"
    }
   ],
   "source": [
    "bacteria_per_person = np.count_nonzero(t2d_true_matrix, axis=1)\n",
    "plt.hist(bacteria_per_person, 100)\n",
    "plt.xlabel(\"Number of microbes\")\n",
    "plt.ylabel(\"Number of people\")\n",
    "plt.show()"
   ]
  },
  {
   "cell_type": "code",
   "execution_count": 45,
   "id": "dc0ab1e3-6623-428c-bbe5-37d2155a7f10",
   "metadata": {},
   "outputs": [
    {
     "name": "stdout",
     "output_type": "stream",
     "text": [
      "False\n",
      "True\n",
      "True\n"
     ]
    }
   ],
   "source": [
    "#Microbes exclusively present on WT/Patients\n",
    "#Check if there are such microbes \n",
    "matrix_list = [t2d_matrix, t2d_false_matrix, t2d_true_matrix]\n",
    "for mat in matrix_list:\n",
    "    print((~mat.any(axis=0)).any())"
   ]
  },
  {
   "cell_type": "code",
   "execution_count": 68,
   "id": "4f9cf237-ad96-4162-aa3d-b31ff9c2e298",
   "metadata": {},
   "outputs": [
    {
     "name": "stdout",
     "output_type": "stream",
     "text": [
      "NUM OF TRUE EXCLUISIVE MICROBES: 19531\n",
      "NUM OF TRUE EXCLUISIVE MICROBE STRAINS: 19531\n",
      "NO OVERLAP\n"
     ]
    }
   ],
   "source": [
    "true_exclusive_microbe_idx = np.where(~t2d_false_matrix.any(axis=0))[0].tolist()\n",
    "false_exclusive_microbe_idx = np.where(~t2d_true_matrix.any(axis=0))[0].tolist()\n",
    "\n",
    "microbes_list = t2d_marker_microbes.columns.tolist()\n",
    "true_exclusive_microbes = []\n",
    "false_exclusive_microbes = []\n",
    "\n",
    "for i in true_exclusive_microbe_idx:\n",
    "    true_exclusive_microbes.append(microbes_list[i])\n",
    "print(\"NUM OF TRUE EXCLUISIVE MICROBES: {}\".format(len(true_exclusive_microbes)))\n",
    "    \n",
    "for i in false_exclusive_microbe_idx:\n",
    "    false_exclusive_microbes.append(microbes_list[i])\n",
    "print(\"NUM OF TRUE EXCLUISIVE MICROBE STRAINS: {}\".format(len(true_exclusive_microbes)))\n",
    "    \n",
    "#check if there's overlap\n",
    "a = set(true_exclusive_microbes)\n",
    "b = set(false_exclusive_microbes)\n",
    "if not a&b: print(\"NO OVERLAP\")"
   ]
  },
  {
   "cell_type": "code",
   "execution_count": 62,
   "id": "e1521f54-193c-4369-abe7-5c7c2edc6245",
   "metadata": {},
   "outputs": [
    {
     "name": "stdout",
     "output_type": "stream",
     "text": [
      "X@gi|108562424|ref|NC_008086.1|:1297524-1298312\n",
      "X@gi|119025018|ref|NC_008618.1|:c1768547-1766292\n",
      "X@gi|120601051|ref|NC_008751.1|:3012106-3012942\n",
      "X@gi|139437954|ref|NZ_AAVN02000002.1|:c102952-102281\n",
      "X@gi|145297124|ref|NC_009348.1|:c3777316-3776609\n",
      "X@gi|146386150|ref|NZ_AAXG02000001.1|:c44509-44321\n",
      "X@gi|146386227|ref|NZ_AAYG02000011.1|:139434-139553\n",
      "X@gi|146386227|ref|NZ_AAYG02000011.1|:139743-139856\n",
      "X@gi|150006674|ref|NC_009615.1|:c3911175-3910225\n",
      "X@gi|153883811|ref|NZ_ABDX01000024.1|:9104-9868\n",
      "----------------------------------------------\n",
      "X@gi|116626972|ref|NC_008532.1|:867149-868246\n",
      "X@gi|119025018|ref|NC_008618.1|:1718316-1718732\n",
      "X@gi|139437954|ref|NZ_AAVN02000002.1|:c333891-333082\n",
      "X@gi|139439345|ref|NZ_AAVN02000008.1|:97016-97243\n",
      "X@gi|139439895|ref|NZ_AAVN02000014.1|:3095-3211\n",
      "X@gi|139439942|ref|NZ_AAVN02000015.1|:24369-25103\n",
      "X@gi|139440029|ref|NZ_AAVN02000017.1|:7510-8175\n",
      "X@gi|139440029|ref|NZ_AAVN02000017.1|:c5757-5104\n",
      "X@gi|139440029|ref|NZ_AAVN02000017.1|:c9199-9107\n",
      "X@gi|146386220|ref|NZ_AAYG02000004.1|:c98642-96702\n"
     ]
    }
   ],
   "source": [
    "for i in range(10):\n",
    "    print(true_exclusive_microbes[i])\n",
    "print(\"----------------------------------------------\")\n",
    "for i in range(10):\n",
    "    print(false_exclusive_microbes[i])"
   ]
  },
  {
   "cell_type": "code",
   "execution_count": 35,
   "id": "70156350-cb61-4cf9-a6f5-1a1b3c7e0d2f",
   "metadata": {},
   "outputs": [
    {
     "name": "stdout",
     "output_type": "stream",
     "text": [
      "NUMBER OF CLIENT FEATURES: 207\n",
      "FEATURES WITH ONLY ONE VALUE: 190\n"
     ]
    }
   ],
   "source": [
    "#\"Useless\" columns\n",
    "cli_features = t2d_marker.filter(regex = \"^CLI@\")\n",
    "print(\"NUMBER OF CLIENT FEATURES: {}\".format(len(cli_features.columns.tolist())))\n",
    "onecount = 0\n",
    "useless_columns = []\n",
    "for col in cli_features.columns:\n",
    "    if (len(cli_features[col].unique()) == 1):\n",
    "        #print(cli_features[col].unique())\n",
    "        onecount +=1\n",
    "        useless_columns.append(col)\n",
    "\n",
    "print(\"FEATURES WITH ONLY ONE VALUE:\", onecount)\n",
    "#for col in useless_columns:\n",
    "#    print(col)"
   ]
  },
  {
   "cell_type": "code",
   "execution_count": null,
   "id": "b8d77b2c-3432-40ab-af52-3124918fc0f8",
   "metadata": {},
   "outputs": [],
   "source": []
  },
  {
   "cell_type": "code",
   "execution_count": null,
   "id": "895a113c-fc74-4045-af29-39864f037bfc",
   "metadata": {},
   "outputs": [],
   "source": []
  }
 ],
 "metadata": {
  "kernelspec": {
   "display_name": "Python [conda env:dti]",
   "language": "python",
   "name": "conda-env-dti-py"
  },
  "language_info": {
   "codemirror_mode": {
    "name": "ipython",
    "version": 3
   },
   "file_extension": ".py",
   "mimetype": "text/x-python",
   "name": "python",
   "nbconvert_exporter": "python",
   "pygments_lexer": "ipython3",
   "version": "3.9.7"
  }
 },
 "nbformat": 4,
 "nbformat_minor": 5
}
