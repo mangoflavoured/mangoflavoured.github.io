{
 "cells": [
  {
   "cell_type": "code",
   "execution_count": 2,
   "id": "d9da3367-5e7c-4491-b7ce-46a1cc2ed6f3",
   "metadata": {},
   "outputs": [],
   "source": [
    "import pandas as pd\n",
    "import pickle \n",
    "import numpy as np\n",
    "import networkx as nx\n",
    "import re\n",
    "from collections import Counter\n",
    "import plotly.express as px\n",
    "\n",
    "ROOT_PATH = '/home/chiwon/workspace/vmh_workbook/mangoflavoured.github.io'\n",
    "graphs = [\"Colorectal\", \"IBD\", \"Obesity\", \"T2D\", \"WT2D\"] #Cirrhosis: error|"
   ]
  },
  {
   "cell_type": "code",
   "execution_count": 4,
   "id": "f50ac81b-a9e6-42de-b37e-8cbd2fc8000c",
   "metadata": {},
   "outputs": [
    {
     "name": "stdout",
     "output_type": "stream",
     "text": [
      "dict_keys(['abundance_profile', 'marker_profile', 'microbe_names', 'fold_idx_1', 'fold_idx_2', 'fold_idx_3', 'fold_idx_4', 'fold_idx_5'])\n"
     ]
    }
   ],
   "source": [
    "with open(f\"{ROOT_PATH}/data/mm-graph/preprocessed_T2D.pkl\", \"rb\") as h:\n",
    "    t2d_dict = pickle.load(h)\n",
    "    print(t2d_dict.keys())"
   ]
  },
  {
   "cell_type": "code",
   "execution_count": 5,
   "id": "431384fd-822a-4ace-a5b6-511e7b118eee",
   "metadata": {},
   "outputs": [
    {
     "name": "stdout",
     "output_type": "stream",
     "text": [
      "<class 'pandas.core.frame.DataFrame'>\n",
      "<class 'pandas.core.frame.DataFrame'>\n",
      "<class 'list'>\n",
      "<class 'dict'>\n",
      "<class 'dict'>\n",
      "<class 'dict'>\n",
      "<class 'dict'>\n",
      "<class 'dict'>\n"
     ]
    }
   ],
   "source": [
    "for key in t2d_dict.keys():\n",
    "    print(type(t2d_dict[key]))"
   ]
  },
  {
   "cell_type": "code",
   "execution_count": 6,
   "id": "d9694579-60fe-4f30-86d0-588ccd2f35e9",
   "metadata": {},
   "outputs": [],
   "source": [
    "t2d_abundance = pd.DataFrame(t2d_dict[\"abundance_profile\"])\n",
    "t2d_marker = pd.DataFrame(t2d_dict[\"marker_profile\"])\n",
    "t2d_abundance.to_csv(f\"{ROOT_PATH}/data/mm-graph/T2D_Abundance_Profile.csv\")\n",
    "t2d_marker.to_csv(f\"{ROOT_PATH}/data/mm-graph/T2D_Marker_Profile.csv\")"
   ]
  },
  {
   "cell_type": "code",
   "execution_count": 7,
   "id": "8709b593-82d1-4bb6-8177-f9fe48f0e929",
   "metadata": {},
   "outputs": [
    {
     "data": {
      "text/plain": [
       "(344, 120001)"
      ]
     },
     "execution_count": 7,
     "metadata": {},
     "output_type": "execute_result"
    }
   ],
   "source": [
    "t2d_marker.shape"
   ]
  },
  {
   "cell_type": "code",
   "execution_count": 8,
   "id": "726f3e26-f0ae-4ce0-9c96-13d2f6b0cd44",
   "metadata": {},
   "outputs": [
    {
     "data": {
      "text/html": [
       "<div>\n",
       "<style scoped>\n",
       "    .dataframe tbody tr th:only-of-type {\n",
       "        vertical-align: middle;\n",
       "    }\n",
       "\n",
       "    .dataframe tbody tr th {\n",
       "        vertical-align: top;\n",
       "    }\n",
       "\n",
       "    .dataframe thead th {\n",
       "        text-align: right;\n",
       "    }\n",
       "</style>\n",
       "<table border=\"1\" class=\"dataframe\">\n",
       "  <thead>\n",
       "    <tr style=\"text-align: right;\">\n",
       "      <th>dataset_name</th>\n",
       "      <th>ID@subjectID</th>\n",
       "      <th>CLI@bodysite</th>\n",
       "      <th>Y@disease</th>\n",
       "      <th>CLI@age</th>\n",
       "      <th>CLI@gender</th>\n",
       "      <th>CLI@country</th>\n",
       "      <th>CLI@sequencing_technology</th>\n",
       "      <th>CLI@pubmedid</th>\n",
       "      <th>CLI@camp</th>\n",
       "      <th>CLI@paired_end_insert_size</th>\n",
       "      <th>...</th>\n",
       "      <th>X@gi|83286007|ref|XM_724880.1|</th>\n",
       "      <th>X@gi|83591340|ref|NC_007643.1|:3854287-3855165</th>\n",
       "      <th>X@gi|83956146|ref|NZ_AALZ01000014.1|:c71868-71287</th>\n",
       "      <th>X@gi|84389706|ref|NZ_AAMR01000024.1|:c62016-61705</th>\n",
       "      <th>X@gi|85057280|ref|NC_007716.1|:178414-178599</th>\n",
       "      <th>X@gi|85057280|ref|NC_007716.1|:195234-195935</th>\n",
       "      <th>X@gi|88607955|ref|NC_007798.1|:118090-119082</th>\n",
       "      <th>X@gi|88797415|ref|NZ_AAOE01000002.1|:c235147-234506</th>\n",
       "      <th>X@gi|89892746|ref|NC_007907.1|:c3938880-3937900</th>\n",
       "      <th>X@gi|94502223|ref|NZ_AANL01000001.1|:c8848-8444</th>\n",
       "    </tr>\n",
       "    <tr>\n",
       "      <th>ID@sampleID</th>\n",
       "      <th></th>\n",
       "      <th></th>\n",
       "      <th></th>\n",
       "      <th></th>\n",
       "      <th></th>\n",
       "      <th></th>\n",
       "      <th></th>\n",
       "      <th></th>\n",
       "      <th></th>\n",
       "      <th></th>\n",
       "      <th></th>\n",
       "      <th></th>\n",
       "      <th></th>\n",
       "      <th></th>\n",
       "      <th></th>\n",
       "      <th></th>\n",
       "      <th></th>\n",
       "      <th></th>\n",
       "      <th></th>\n",
       "      <th></th>\n",
       "      <th></th>\n",
       "    </tr>\n",
       "  </thead>\n",
       "  <tbody>\n",
       "    <tr>\n",
       "      <th>CON-001</th>\n",
       "      <td>con-001</td>\n",
       "      <td>stool</td>\n",
       "      <td>n</td>\n",
       "      <td>21</td>\n",
       "      <td>female</td>\n",
       "      <td>china</td>\n",
       "      <td>Illumina</td>\n",
       "      <td>23023125</td>\n",
       "      <td>nd</td>\n",
       "      <td>nd</td>\n",
       "      <td>...</td>\n",
       "      <td>0</td>\n",
       "      <td>0</td>\n",
       "      <td>0</td>\n",
       "      <td>0</td>\n",
       "      <td>0</td>\n",
       "      <td>0</td>\n",
       "      <td>0</td>\n",
       "      <td>0</td>\n",
       "      <td>0</td>\n",
       "      <td>0</td>\n",
       "    </tr>\n",
       "    <tr>\n",
       "      <th>CON-002</th>\n",
       "      <td>con-002</td>\n",
       "      <td>stool</td>\n",
       "      <td>n</td>\n",
       "      <td>53</td>\n",
       "      <td>female</td>\n",
       "      <td>china</td>\n",
       "      <td>Illumina</td>\n",
       "      <td>23023125</td>\n",
       "      <td>nd</td>\n",
       "      <td>nd</td>\n",
       "      <td>...</td>\n",
       "      <td>0</td>\n",
       "      <td>0</td>\n",
       "      <td>0</td>\n",
       "      <td>0</td>\n",
       "      <td>0</td>\n",
       "      <td>0</td>\n",
       "      <td>0</td>\n",
       "      <td>0</td>\n",
       "      <td>0</td>\n",
       "      <td>0</td>\n",
       "    </tr>\n",
       "    <tr>\n",
       "      <th>CON-003</th>\n",
       "      <td>con-003</td>\n",
       "      <td>stool</td>\n",
       "      <td>n</td>\n",
       "      <td>61</td>\n",
       "      <td>female</td>\n",
       "      <td>china</td>\n",
       "      <td>Illumina</td>\n",
       "      <td>23023125</td>\n",
       "      <td>nd</td>\n",
       "      <td>nd</td>\n",
       "      <td>...</td>\n",
       "      <td>0</td>\n",
       "      <td>0</td>\n",
       "      <td>0</td>\n",
       "      <td>0</td>\n",
       "      <td>0</td>\n",
       "      <td>0</td>\n",
       "      <td>0</td>\n",
       "      <td>0</td>\n",
       "      <td>0</td>\n",
       "      <td>0</td>\n",
       "    </tr>\n",
       "    <tr>\n",
       "      <th>CON-004</th>\n",
       "      <td>con-004</td>\n",
       "      <td>stool</td>\n",
       "      <td>n</td>\n",
       "      <td>55</td>\n",
       "      <td>female</td>\n",
       "      <td>china</td>\n",
       "      <td>Illumina</td>\n",
       "      <td>23023125</td>\n",
       "      <td>nd</td>\n",
       "      <td>nd</td>\n",
       "      <td>...</td>\n",
       "      <td>0</td>\n",
       "      <td>0</td>\n",
       "      <td>0</td>\n",
       "      <td>0</td>\n",
       "      <td>0</td>\n",
       "      <td>0</td>\n",
       "      <td>0</td>\n",
       "      <td>0</td>\n",
       "      <td>0</td>\n",
       "      <td>0</td>\n",
       "    </tr>\n",
       "    <tr>\n",
       "      <th>CON-005</th>\n",
       "      <td>con-005</td>\n",
       "      <td>stool</td>\n",
       "      <td>n</td>\n",
       "      <td>53</td>\n",
       "      <td>female</td>\n",
       "      <td>china</td>\n",
       "      <td>Illumina</td>\n",
       "      <td>23023125</td>\n",
       "      <td>nd</td>\n",
       "      <td>nd</td>\n",
       "      <td>...</td>\n",
       "      <td>0</td>\n",
       "      <td>0</td>\n",
       "      <td>0</td>\n",
       "      <td>0</td>\n",
       "      <td>0</td>\n",
       "      <td>0</td>\n",
       "      <td>0</td>\n",
       "      <td>0</td>\n",
       "      <td>0</td>\n",
       "      <td>0</td>\n",
       "    </tr>\n",
       "  </tbody>\n",
       "</table>\n",
       "<p>5 rows × 120001 columns</p>\n",
       "</div>"
      ],
      "text/plain": [
       "dataset_name ID@subjectID CLI@bodysite Y@disease CLI@age CLI@gender  \\\n",
       "ID@sampleID                                                           \n",
       "CON-001           con-001        stool         n      21     female   \n",
       "CON-002           con-002        stool         n      53     female   \n",
       "CON-003           con-003        stool         n      61     female   \n",
       "CON-004           con-004        stool         n      55     female   \n",
       "CON-005           con-005        stool         n      53     female   \n",
       "\n",
       "dataset_name CLI@country CLI@sequencing_technology CLI@pubmedid CLI@camp  \\\n",
       "ID@sampleID                                                                \n",
       "CON-001            china                  Illumina     23023125       nd   \n",
       "CON-002            china                  Illumina     23023125       nd   \n",
       "CON-003            china                  Illumina     23023125       nd   \n",
       "CON-004            china                  Illumina     23023125       nd   \n",
       "CON-005            china                  Illumina     23023125       nd   \n",
       "\n",
       "dataset_name CLI@paired_end_insert_size  ... X@gi|83286007|ref|XM_724880.1|  \\\n",
       "ID@sampleID                              ...                                  \n",
       "CON-001                              nd  ...                              0   \n",
       "CON-002                              nd  ...                              0   \n",
       "CON-003                              nd  ...                              0   \n",
       "CON-004                              nd  ...                              0   \n",
       "CON-005                              nd  ...                              0   \n",
       "\n",
       "dataset_name X@gi|83591340|ref|NC_007643.1|:3854287-3855165  \\\n",
       "ID@sampleID                                                   \n",
       "CON-001                                                   0   \n",
       "CON-002                                                   0   \n",
       "CON-003                                                   0   \n",
       "CON-004                                                   0   \n",
       "CON-005                                                   0   \n",
       "\n",
       "dataset_name X@gi|83956146|ref|NZ_AALZ01000014.1|:c71868-71287  \\\n",
       "ID@sampleID                                                      \n",
       "CON-001                                                      0   \n",
       "CON-002                                                      0   \n",
       "CON-003                                                      0   \n",
       "CON-004                                                      0   \n",
       "CON-005                                                      0   \n",
       "\n",
       "dataset_name X@gi|84389706|ref|NZ_AAMR01000024.1|:c62016-61705  \\\n",
       "ID@sampleID                                                      \n",
       "CON-001                                                      0   \n",
       "CON-002                                                      0   \n",
       "CON-003                                                      0   \n",
       "CON-004                                                      0   \n",
       "CON-005                                                      0   \n",
       "\n",
       "dataset_name X@gi|85057280|ref|NC_007716.1|:178414-178599  \\\n",
       "ID@sampleID                                                 \n",
       "CON-001                                                 0   \n",
       "CON-002                                                 0   \n",
       "CON-003                                                 0   \n",
       "CON-004                                                 0   \n",
       "CON-005                                                 0   \n",
       "\n",
       "dataset_name X@gi|85057280|ref|NC_007716.1|:195234-195935  \\\n",
       "ID@sampleID                                                 \n",
       "CON-001                                                 0   \n",
       "CON-002                                                 0   \n",
       "CON-003                                                 0   \n",
       "CON-004                                                 0   \n",
       "CON-005                                                 0   \n",
       "\n",
       "dataset_name X@gi|88607955|ref|NC_007798.1|:118090-119082  \\\n",
       "ID@sampleID                                                 \n",
       "CON-001                                                 0   \n",
       "CON-002                                                 0   \n",
       "CON-003                                                 0   \n",
       "CON-004                                                 0   \n",
       "CON-005                                                 0   \n",
       "\n",
       "dataset_name X@gi|88797415|ref|NZ_AAOE01000002.1|:c235147-234506  \\\n",
       "ID@sampleID                                                        \n",
       "CON-001                                                       0    \n",
       "CON-002                                                       0    \n",
       "CON-003                                                       0    \n",
       "CON-004                                                       0    \n",
       "CON-005                                                       0    \n",
       "\n",
       "dataset_name X@gi|89892746|ref|NC_007907.1|:c3938880-3937900  \\\n",
       "ID@sampleID                                                    \n",
       "CON-001                                                    0   \n",
       "CON-002                                                    0   \n",
       "CON-003                                                    0   \n",
       "CON-004                                                    0   \n",
       "CON-005                                                    0   \n",
       "\n",
       "dataset_name X@gi|94502223|ref|NZ_AANL01000001.1|:c8848-8444  \n",
       "ID@sampleID                                                   \n",
       "CON-001                                                    0  \n",
       "CON-002                                                    0  \n",
       "CON-003                                                    0  \n",
       "CON-004                                                    0  \n",
       "CON-005                                                    0  \n",
       "\n",
       "[5 rows x 120001 columns]"
      ]
     },
     "execution_count": 8,
     "metadata": {},
     "output_type": "execute_result"
    }
   ],
   "source": [
    "t2d_marker.head()"
   ]
  },
  {
   "cell_type": "code",
   "execution_count": 70,
   "id": "b9383d22-2288-4884-a0ca-2d202c15a7a2",
   "metadata": {},
   "outputs": [
    {
     "name": "stdout",
     "output_type": "stream",
     "text": [
      "NUMBER OF MICROBE STRAINS: 119792\n"
     ]
    }
   ],
   "source": [
    "#Microbe strain count\n",
    "match = \"X@gi\"\n",
    "c = 0\n",
    "for column in t2d_marker.columns:\n",
    "    if re.match(match, column):\n",
    "        c += 1\n",
    "    else:\n",
    "        continue\n",
    "print(f\"NUMBER OF MICROBE STRAINS: {c}\")"
   ]
  },
  {
   "cell_type": "code",
   "execution_count": 10,
   "id": "2b0b9506-c258-4b09-aba7-24c23fb8c3c0",
   "metadata": {},
   "outputs": [
    {
     "name": "stdout",
     "output_type": "stream",
     "text": [
      "Illumina\n"
     ]
    }
   ],
   "source": [
    "#Sequencing tech tyoes\n",
    "sequencing_tech = t2d_marker[\"CLI@sequencing_technology\"].unique().tolist()\n",
    "for tech in sequencing_tech:\n",
    "    print(tech)"
   ]
  },
  {
   "cell_type": "code",
   "execution_count": 11,
   "id": "375bb4d0-10b3-4542-8196-1ed42a81a97c",
   "metadata": {},
   "outputs": [
    {
     "name": "stdout",
     "output_type": "stream",
     "text": [
      "Counter({'male': 190, 'female': 154})\n"
     ]
    }
   ],
   "source": [
    "#gender distribution\n",
    "gender = t2d_marker[\"CLI@gender\"].tolist()\n",
    "c = Counter(gender)\n",
    "print(c)"
   ]
  },
  {
   "cell_type": "code",
   "execution_count": 12,
   "id": "81161eb0-51b1-49e0-b95a-4f53bd7fcb32",
   "metadata": {},
   "outputs": [
    {
     "name": "stdout",
     "output_type": "stream",
     "text": [
      "NO DUPLICATES\n"
     ]
    }
   ],
   "source": [
    "#checking duplicates\n",
    "column_list = list(t2d_marker.columns)\n",
    "column_set = set(column_list)\n",
    "if len(list(column_set)) == len(column_list):\n",
    "    print(\"NO DUPLICATES\")\n",
    "else:\n",
    "    print(\"DUPLICATES DETECTED\")"
   ]
  },
  {
   "cell_type": "code",
   "execution_count": 13,
   "id": "4e8d7ff4-e8fa-40af-8a38-2360866ae421",
   "metadata": {},
   "outputs": [
    {
     "name": "stdout",
     "output_type": "stream",
     "text": [
      "SPARSITY: 0.8880357251018044\n"
     ]
    }
   ],
   "source": [
    "#overall sparsity of microbes\n",
    "t2d_marker_microbes = t2d_marker.filter(regex = \"^X@gi\")\n",
    "t2d_marker_microbes = t2d_marker_microbes.astype(int)\n",
    "t2d_matrix = t2d_marker_microbes.to_numpy()\n",
    "print(\"SPARSITY: {}\".format((t2d_matrix ==0).mean()))"
   ]
  },
  {
   "cell_type": "code",
   "execution_count": 14,
   "id": "632b2fdb-643f-4320-898f-edc7c7f27baa",
   "metadata": {},
   "outputs": [
    {
     "name": "stdout",
     "output_type": "stream",
     "text": [
      "TOTAL: 344\n",
      "TRUE_NEG: 174\n",
      "TRUE_POS: 170\n"
     ]
    }
   ],
   "source": [
    "#label counts\n",
    "label_count = len(t2d_marker)\n",
    "label_false = t2d_marker.loc[t2d_marker[\"Y@disease\"] == \"n\"]\n",
    "false_count = len(label_false)\n",
    "true_count = label_count - false_count\n",
    "\n",
    "print(f\"TOTAL: {label_count}\\nTRUE_NEG: {false_count}\\nTRUE_POS: {true_count}\")"
   ]
  },
  {
   "cell_type": "code",
   "execution_count": 27,
   "id": "dc4555b4-88db-400b-add2-fadbcb8c812c",
   "metadata": {},
   "outputs": [
    {
     "data": {
      "image/png": "[encoded data removed]",
      "text/plain": [
       "<Figure size 432x288 with 1 Axes>"
      ]
     },
     "metadata": {
      "needs_background": "light"
     },
     "output_type": "display_data"
    }
   ],
   "source": [
    "#age distribution\n",
    "import matplotlib.pyplot as plt\n",
    "#label split\n",
    "t2d_marker_false = t2d_marker.loc[t2d_marker[\"Y@disease\"] == \"n\"] #false as in normal\n",
    "t2d_false_matrix = t2d_marker_false.filter(regex = \"^X@gi\").astype(int).to_numpy()\n",
    "t2d_marker_true = t2d_marker.loc[t2d_marker[\"Y@disease\"] == \"t2d\"] #true as in has diabetes\n",
    "t2d_true_matrix = t2d_marker_true.filter(regex = \"^X@gi\").astype(int).to_numpy()\n",
    "\n",
    "wt_age = t2d_marker_false[\"CLI@age\"].astype(int).tolist()\n",
    "disease_age = t2d_marker_true[\"CLI@age\"].astype(int).tolist()\n",
    "\n",
    "plt.hist(wt_age, 30)\n",
    "plt.xlabel(\"Age\")\n",
    "plt.ylabel(\"Count\")\n",
    "plt.show()"
   ]
  },
  {
   "cell_type": "code",
   "execution_count": 28,
   "id": "07a46b68-19dd-4a9c-a8b0-cc3c886afc1d",
   "metadata": {},
   "outputs": [
    {
     "data": {
      "image/png": "[encoded data removed]",
      "text/plain": [
       "<Figure size 432x288 with 1 Axes>"
      ]
     },
     "metadata": {
      "needs_background": "light"
     },
     "output_type": "display_data"
    }
   ],
   "source": [
    "plt.hist(disease_age, 30)\n",
    "plt.xlabel(\"Age\")\n",
    "plt.ylabel(\"Count\")\n",
    "plt.show()"
   ]
  },
  {
   "cell_type": "code",
   "execution_count": 31,
   "id": "75abb349-e70c-490b-bf26-c7f656d91063",
   "metadata": {},
   "outputs": [
    {
     "data": {
      "image/png": "[encoded data removed]",
      "text/plain": [
       "<Figure size 432x288 with 1 Axes>"
      ]
     },
     "metadata": {
      "needs_background": "light"
     },
     "output_type": "display_data"
    }
   ],
   "source": [
    "#bacteria abundance distribution\n",
    "bacteria_count = np.count_nonzero(t2d_false_matrix, axis=0)\n",
    "plt.hist(bacteria_count, 100)\n",
    "plt.xlabel(\"Occurrence\")\n",
    "plt.ylabel(\"Number of microbes\")\n",
    "plt.show()"
   ]
  },
  {
   "cell_type": "code",
   "execution_count": 32,
   "id": "1ca1aa67-719b-4de2-8862-31987c45eea2",
   "metadata": {},
   "outputs": [
    {
     "data": {
      "image/png": "[encoded data removed]",
      "text/plain": [
       "<Figure size 432x288 with 1 Axes>"
      ]
     },
     "metadata": {
      "needs_background": "light"
     },
     "output_type": "display_data"
    }
   ],
   "source": [
    "#bacteria abundance distribution\n",
    "bacteria_count_t2d = np.count_nonzero(t2d_true_matrix, axis=0)\n",
    "plt.hist(bacteria_count_t2d, 100)\n",
    "plt.xlabel(\"Occurrence\")\n",
    "plt.ylabel(\"Number of microbes\")\n",
    "plt.show()"
   ]
  },
  {
   "cell_type": "code",
   "execution_count": 33,
   "id": "c365083c-bb42-48bb-b138-401be7649d04",
   "metadata": {},
   "outputs": [
    {
     "data": {
      "image/png": "[encoded data removed]",
      "text/plain": [
       "<Figure size 432x288 with 1 Axes>"
      ]
     },
     "metadata": {
      "needs_background": "light"
     },
     "output_type": "display_data"
    }
   ],
   "source": [
    "#Distribution of no. of bacteria in people\n",
    "bacteria_per_person = np.count_nonzero(t2d_false_matrix, axis=1)\n",
    "plt.hist(bacteria_per_person, 100)\n",
    "plt.xlabel(\"Number of microbes\")\n",
    "plt.ylabel(\"Number of people\")\n",
    "plt.show()"
   ]
  },
  {
   "cell_type": "code",
   "execution_count": 34,
   "id": "10bb19d7-f954-43a3-a383-05687c3911d8",
   "metadata": {},
   "outputs": [
    {
     "data": {
      "image/png": "[encoded data removed]",
      "text/plain": [
       "<Figure size 432x288 with 1 Axes>"
      ]
     },
     "metadata": {
      "needs_background": "light"
     },
     "output_type": "display_data"
    }
   ],
   "source": [
    "bacteria_per_person = np.count_nonzero(t2d_true_matrix, axis=1)\n",
    "plt.hist(bacteria_per_person, 100)\n",
    "plt.xlabel(\"Number of microbes\")\n",
    "plt.ylabel(\"Number of people\")\n",
    "plt.show()"
   ]
  },
  {
   "cell_type": "code",
   "execution_count": 45,
   "id": "dc0ab1e3-6623-428c-bbe5-37d2155a7f10",
   "metadata": {},
   "outputs": [
    {
     "name": "stdout",
     "output_type": "stream",
     "text": [
      "False\n",
      "True\n",
      "True\n"
     ]
    }
   ],
   "source": [
    "#Microbes exclusively present on WT/Patients\n",
    "#Check if there are such microbes \n",
    "matrix_list = [t2d_matrix, t2d_false_matrix, t2d_true_matrix]\n",
    "for mat in matrix_list:\n",
    "    print((~mat.any(axis=0)).any())"
   ]
  },
  {
   "cell_type": "code",
   "execution_count": 75,
   "id": "4f9cf237-ad96-4162-aa3d-b31ff9c2e298",
   "metadata": {},
   "outputs": [
    {
     "name": "stdout",
     "output_type": "stream",
     "text": [
      "NUM OF TRUE EXCLUISIVE MICROBE STRAINS: 19531\n",
      "NUM OF FALSE EXCLUISIVE MICROBE STRAINS: 19531\n",
      "NO OVERLAP\n"
     ]
    }
   ],
   "source": [
    "true_exclusive_microbe_idx = np.where(~t2d_false_matrix.any(axis=0))[0].tolist()\n",
    "false_exclusive_microbe_idx = np.where(~t2d_true_matrix.any(axis=0))[0].tolist()\n",
    "\n",
    "microbes_list = t2d_marker_microbes.columns.tolist()\n",
    "true_exclusive_strains = []\n",
    "false_exclusive_strains = []\n",
    "\n",
    "for i in true_exclusive_microbe_idx:\n",
    "    true_exclusive_strains.append(microbes_list[i])\n",
    "print(\"NUM OF TRUE EXCLUISIVE MICROBE STRAINS: {}\".format(len(true_exclusive_microbes)))\n",
    "    \n",
    "for i in false_exclusive_microbe_idx:\n",
    "    false_exclusive_strains.append(microbes_list[i])\n",
    "print(\"NUM OF FALSE EXCLUISIVE MICROBE STRAINS: {}\".format(len(true_exclusive_microbes)))\n",
    "    \n",
    "#check if there's overlap\n",
    "a = set(true_exclusive_strains)\n",
    "b = set(false_exclusive_strains)\n",
    "if not a&b: print(\"NO OVERLAP\")"
   ]
  },
  {
   "cell_type": "code",
   "execution_count": 76,
   "id": "e1521f54-193c-4369-abe7-5c7c2edc6245",
   "metadata": {},
   "outputs": [
    {
     "name": "stdout",
     "output_type": "stream",
     "text": [
      "X@gi|108562424|ref|NC_008086.1|:1297524-1298312\n",
      "X@gi|119025018|ref|NC_008618.1|:c1768547-1766292\n",
      "X@gi|120601051|ref|NC_008751.1|:3012106-3012942\n",
      "X@gi|139437954|ref|NZ_AAVN02000002.1|:c102952-102281\n",
      "X@gi|145297124|ref|NC_009348.1|:c3777316-3776609\n",
      "X@gi|146386150|ref|NZ_AAXG02000001.1|:c44509-44321\n",
      "X@gi|146386227|ref|NZ_AAYG02000011.1|:139434-139553\n",
      "X@gi|146386227|ref|NZ_AAYG02000011.1|:139743-139856\n",
      "X@gi|150006674|ref|NC_009615.1|:c3911175-3910225\n",
      "X@gi|153883811|ref|NZ_ABDX01000024.1|:9104-9868\n",
      "----------------------------------------------\n",
      "X@gi|116626972|ref|NC_008532.1|:867149-868246\n",
      "X@gi|119025018|ref|NC_008618.1|:1718316-1718732\n",
      "X@gi|139437954|ref|NZ_AAVN02000002.1|:c333891-333082\n",
      "X@gi|139439345|ref|NZ_AAVN02000008.1|:97016-97243\n",
      "X@gi|139439895|ref|NZ_AAVN02000014.1|:3095-3211\n",
      "X@gi|139439942|ref|NZ_AAVN02000015.1|:24369-25103\n",
      "X@gi|139440029|ref|NZ_AAVN02000017.1|:7510-8175\n",
      "X@gi|139440029|ref|NZ_AAVN02000017.1|:c5757-5104\n",
      "X@gi|139440029|ref|NZ_AAVN02000017.1|:c9199-9107\n",
      "X@gi|146386220|ref|NZ_AAYG02000004.1|:c98642-96702\n"
     ]
    }
   ],
   "source": [
    "for i in range(10):\n",
    "    print(true_exclusive_strains[i])\n",
    "print(\"----------------------------------------------\")\n",
    "for i in range(10):\n",
    "    print(false_exclusive_strains[i])"
   ]
  },
  {
   "cell_type": "code",
   "execution_count": 87,
   "id": "3c32ba8c-f117-4ede-b691-2d171288f60f",
   "metadata": {},
   "outputs": [],
   "source": [
    "strain_split_list = [true_exclusive_strains, false_exclusive_strains]\n",
    "microbe_id_set_list = []\n",
    "\n",
    "for strain in strain_split_list:\n",
    "    microbe_id_list_sub = []\n",
    "    for strain in t2d_marker_microbes.columns:\n",
    "        uniprot_id = strain.split(\"|\")[3]\n",
    "        microbe_id_list_sub.append(uniprot_id)\n",
    "    microbe_id_list_sub = set(microbe_id_list_sub)\n",
    "    microbe_id_set_list.append(microbe_id_list_sub)\n",
    "    \n",
    "true"
   ]
  },
  {
   "cell_type": "code",
   "execution_count": 35,
   "id": "70156350-cb61-4cf9-a6f5-1a1b3c7e0d2f",
   "metadata": {},
   "outputs": [
    {
     "name": "stdout",
     "output_type": "stream",
     "text": [
      "NUMBER OF CLIENT FEATURES: 207\n",
      "FEATURES WITH ONLY ONE VALUE: 190\n"
     ]
    }
   ],
   "source": [
    "#\"Useless\" columns\n",
    "cli_features = t2d_marker.filter(regex = \"^CLI@\")\n",
    "print(\"NUMBER OF CLIENT FEATURES: {}\".format(len(cli_features.columns.tolist())))\n",
    "onecount = 0\n",
    "useless_columns = []\n",
    "for col in cli_features.columns:\n",
    "    if (len(cli_features[col].unique()) == 1):\n",
    "        #print(cli_features[col].unique())\n",
    "        onecount +=1\n",
    "        useless_columns.append(col)\n",
    "\n",
    "print(\"FEATURES WITH ONLY ONE VALUE:\", onecount)\n",
    "#for col in useless_columns:\n",
    "#    print(col)"
   ]
  },
  {
   "cell_type": "markdown",
   "id": "75d636d4-2e1e-4cb1-b68b-eee525f050c2",
   "metadata": {},
   "source": [
    "------------------------------ABUNDANCE DATAFRAME---------------------------------------------"
   ]
  },
  {
   "cell_type": "code",
   "execution_count": 88,
   "id": "895a113c-fc74-4045-af29-39864f037bfc",
   "metadata": {},
   "outputs": [
    {
     "data": {
      "text/html": [
       "<div>\n",
       "<style scoped>\n",
       "    .dataframe tbody tr th:only-of-type {\n",
       "        vertical-align: middle;\n",
       "    }\n",
       "\n",
       "    .dataframe tbody tr th {\n",
       "        vertical-align: top;\n",
       "    }\n",
       "\n",
       "    .dataframe thead th {\n",
       "        text-align: right;\n",
       "    }\n",
       "</style>\n",
       "<table border=\"1\" class=\"dataframe\">\n",
       "  <thead>\n",
       "    <tr style=\"text-align: right;\">\n",
       "      <th>dataset_name</th>\n",
       "      <th>ID@subjectID</th>\n",
       "      <th>CLI@bodysite</th>\n",
       "      <th>Y@disease</th>\n",
       "      <th>CLI@age</th>\n",
       "      <th>CLI@gender</th>\n",
       "      <th>CLI@country</th>\n",
       "      <th>CLI@sequencing_technology</th>\n",
       "      <th>CLI@pubmedid</th>\n",
       "      <th>CLI@camp</th>\n",
       "      <th>CLI@paired_end_insert_size</th>\n",
       "      <th>...</th>\n",
       "      <th>X@k__Bacteria|p__Proteobacteria|c__Gammaproteobacteria|o__Oceanospirillales|f__Halomonadaceae|g__Halomonas|s__Halomonas_boliviensis</th>\n",
       "      <th>X@k__Bacteria|p__Proteobacteria|c__Gammaproteobacteria|o__Vibrionales|f__Vibrionaceae|g__Vibrio|s__Vibrio_kanaloae</th>\n",
       "      <th>X@k__Bacteria|p__Proteobacteria|c__Gammaproteobacteria|o__Xanthomonadales|f__Xanthomonadaceae|g__Xanthomonas|s__Xanthomonas_axonopodis</th>\n",
       "      <th>X@k__Bacteria|p__Proteobacteria|c__Gammaproteobacteria|o__Xanthomonadales|f__Xanthomonadaceae|g__Xanthomonas|s__Xanthomonas_fuscans</th>\n",
       "      <th>X@k__Bacteria|p__Tenericutes|c__Mollicutes|o__Mycoplasmatales|f__Mycoplasmataceae|g__Mycoplasma|s__Mycoplasma_bovis</th>\n",
       "      <th>X@k__Bacteria|p__Bacteroidetes|c__Flavobacteriia|o__Flavobacteriales|f__Flavobacteriaceae|g__Zunongwangia|s__Zunongwangia_profunda</th>\n",
       "      <th>X@k__Bacteria|p__Firmicutes|c__Bacilli|o__Lactobacillales|f__Enterococcaceae|g__Enterococcus|s__Enterococcus_pallens</th>\n",
       "      <th>X@k__Bacteria|p__Planctomycetes|c__Planctomycetia|o__Planctomycetales|f__Planctomycetaceae|g__Rhodopirellula|s__Rhodopirellula_unclassified</th>\n",
       "      <th>X@k__Bacteria|p__Proteobacteria|c__Gammaproteobacteria|o__Vibrionales|f__Vibrionaceae|g__Vibrio|s__Vibrio_furnissii</th>\n",
       "      <th>Y@label</th>\n",
       "    </tr>\n",
       "    <tr>\n",
       "      <th>ID@sampleID</th>\n",
       "      <th></th>\n",
       "      <th></th>\n",
       "      <th></th>\n",
       "      <th></th>\n",
       "      <th></th>\n",
       "      <th></th>\n",
       "      <th></th>\n",
       "      <th></th>\n",
       "      <th></th>\n",
       "      <th></th>\n",
       "      <th></th>\n",
       "      <th></th>\n",
       "      <th></th>\n",
       "      <th></th>\n",
       "      <th></th>\n",
       "      <th></th>\n",
       "      <th></th>\n",
       "      <th></th>\n",
       "      <th></th>\n",
       "      <th></th>\n",
       "      <th></th>\n",
       "    </tr>\n",
       "  </thead>\n",
       "  <tbody>\n",
       "    <tr>\n",
       "      <th>CON-001</th>\n",
       "      <td>con-001</td>\n",
       "      <td>stool</td>\n",
       "      <td>n</td>\n",
       "      <td>21</td>\n",
       "      <td>female</td>\n",
       "      <td>china</td>\n",
       "      <td>Illumina</td>\n",
       "      <td>23023125</td>\n",
       "      <td>nd</td>\n",
       "      <td>nd</td>\n",
       "      <td>...</td>\n",
       "      <td>0</td>\n",
       "      <td>0</td>\n",
       "      <td>0</td>\n",
       "      <td>0</td>\n",
       "      <td>0</td>\n",
       "      <td>0</td>\n",
       "      <td>0</td>\n",
       "      <td>0</td>\n",
       "      <td>0</td>\n",
       "      <td>0</td>\n",
       "    </tr>\n",
       "    <tr>\n",
       "      <th>CON-002</th>\n",
       "      <td>con-002</td>\n",
       "      <td>stool</td>\n",
       "      <td>n</td>\n",
       "      <td>53</td>\n",
       "      <td>female</td>\n",
       "      <td>china</td>\n",
       "      <td>Illumina</td>\n",
       "      <td>23023125</td>\n",
       "      <td>nd</td>\n",
       "      <td>nd</td>\n",
       "      <td>...</td>\n",
       "      <td>0</td>\n",
       "      <td>0</td>\n",
       "      <td>0</td>\n",
       "      <td>0</td>\n",
       "      <td>0</td>\n",
       "      <td>0</td>\n",
       "      <td>0</td>\n",
       "      <td>0</td>\n",
       "      <td>0</td>\n",
       "      <td>0</td>\n",
       "    </tr>\n",
       "    <tr>\n",
       "      <th>CON-003</th>\n",
       "      <td>con-003</td>\n",
       "      <td>stool</td>\n",
       "      <td>n</td>\n",
       "      <td>61</td>\n",
       "      <td>female</td>\n",
       "      <td>china</td>\n",
       "      <td>Illumina</td>\n",
       "      <td>23023125</td>\n",
       "      <td>nd</td>\n",
       "      <td>nd</td>\n",
       "      <td>...</td>\n",
       "      <td>0</td>\n",
       "      <td>0</td>\n",
       "      <td>0</td>\n",
       "      <td>0</td>\n",
       "      <td>0</td>\n",
       "      <td>0</td>\n",
       "      <td>0</td>\n",
       "      <td>0</td>\n",
       "      <td>0</td>\n",
       "      <td>0</td>\n",
       "    </tr>\n",
       "    <tr>\n",
       "      <th>CON-004</th>\n",
       "      <td>con-004</td>\n",
       "      <td>stool</td>\n",
       "      <td>n</td>\n",
       "      <td>55</td>\n",
       "      <td>female</td>\n",
       "      <td>china</td>\n",
       "      <td>Illumina</td>\n",
       "      <td>23023125</td>\n",
       "      <td>nd</td>\n",
       "      <td>nd</td>\n",
       "      <td>...</td>\n",
       "      <td>0</td>\n",
       "      <td>0</td>\n",
       "      <td>0</td>\n",
       "      <td>0</td>\n",
       "      <td>0</td>\n",
       "      <td>0</td>\n",
       "      <td>0</td>\n",
       "      <td>0</td>\n",
       "      <td>0</td>\n",
       "      <td>0</td>\n",
       "    </tr>\n",
       "    <tr>\n",
       "      <th>CON-005</th>\n",
       "      <td>con-005</td>\n",
       "      <td>stool</td>\n",
       "      <td>n</td>\n",
       "      <td>53</td>\n",
       "      <td>female</td>\n",
       "      <td>china</td>\n",
       "      <td>Illumina</td>\n",
       "      <td>23023125</td>\n",
       "      <td>nd</td>\n",
       "      <td>nd</td>\n",
       "      <td>...</td>\n",
       "      <td>0</td>\n",
       "      <td>0</td>\n",
       "      <td>0</td>\n",
       "      <td>0</td>\n",
       "      <td>0</td>\n",
       "      <td>0</td>\n",
       "      <td>0</td>\n",
       "      <td>0</td>\n",
       "      <td>0</td>\n",
       "      <td>0</td>\n",
       "    </tr>\n",
       "  </tbody>\n",
       "</table>\n",
       "<p>5 rows × 782 columns</p>\n",
       "</div>"
      ],
      "text/plain": [
       "dataset_name ID@subjectID CLI@bodysite Y@disease CLI@age CLI@gender  \\\n",
       "ID@sampleID                                                           \n",
       "CON-001           con-001        stool         n      21     female   \n",
       "CON-002           con-002        stool         n      53     female   \n",
       "CON-003           con-003        stool         n      61     female   \n",
       "CON-004           con-004        stool         n      55     female   \n",
       "CON-005           con-005        stool         n      53     female   \n",
       "\n",
       "dataset_name CLI@country CLI@sequencing_technology CLI@pubmedid CLI@camp  \\\n",
       "ID@sampleID                                                                \n",
       "CON-001            china                  Illumina     23023125       nd   \n",
       "CON-002            china                  Illumina     23023125       nd   \n",
       "CON-003            china                  Illumina     23023125       nd   \n",
       "CON-004            china                  Illumina     23023125       nd   \n",
       "CON-005            china                  Illumina     23023125       nd   \n",
       "\n",
       "dataset_name CLI@paired_end_insert_size  ...  \\\n",
       "ID@sampleID                              ...   \n",
       "CON-001                              nd  ...   \n",
       "CON-002                              nd  ...   \n",
       "CON-003                              nd  ...   \n",
       "CON-004                              nd  ...   \n",
       "CON-005                              nd  ...   \n",
       "\n",
       "dataset_name X@k__Bacteria|p__Proteobacteria|c__Gammaproteobacteria|o__Oceanospirillales|f__Halomonadaceae|g__Halomonas|s__Halomonas_boliviensis  \\\n",
       "ID@sampleID                                                                                                                                        \n",
       "CON-001                                                       0                                                                                    \n",
       "CON-002                                                       0                                                                                    \n",
       "CON-003                                                       0                                                                                    \n",
       "CON-004                                                       0                                                                                    \n",
       "CON-005                                                       0                                                                                    \n",
       "\n",
       "dataset_name X@k__Bacteria|p__Proteobacteria|c__Gammaproteobacteria|o__Vibrionales|f__Vibrionaceae|g__Vibrio|s__Vibrio_kanaloae  \\\n",
       "ID@sampleID                                                                                                                       \n",
       "CON-001                                                       0                                                                   \n",
       "CON-002                                                       0                                                                   \n",
       "CON-003                                                       0                                                                   \n",
       "CON-004                                                       0                                                                   \n",
       "CON-005                                                       0                                                                   \n",
       "\n",
       "dataset_name X@k__Bacteria|p__Proteobacteria|c__Gammaproteobacteria|o__Xanthomonadales|f__Xanthomonadaceae|g__Xanthomonas|s__Xanthomonas_axonopodis  \\\n",
       "ID@sampleID                                                                                                                                           \n",
       "CON-001                                                       0                                                                                       \n",
       "CON-002                                                       0                                                                                       \n",
       "CON-003                                                       0                                                                                       \n",
       "CON-004                                                       0                                                                                       \n",
       "CON-005                                                       0                                                                                       \n",
       "\n",
       "dataset_name X@k__Bacteria|p__Proteobacteria|c__Gammaproteobacteria|o__Xanthomonadales|f__Xanthomonadaceae|g__Xanthomonas|s__Xanthomonas_fuscans  \\\n",
       "ID@sampleID                                                                                                                                        \n",
       "CON-001                                                       0                                                                                    \n",
       "CON-002                                                       0                                                                                    \n",
       "CON-003                                                       0                                                                                    \n",
       "CON-004                                                       0                                                                                    \n",
       "CON-005                                                       0                                                                                    \n",
       "\n",
       "dataset_name X@k__Bacteria|p__Tenericutes|c__Mollicutes|o__Mycoplasmatales|f__Mycoplasmataceae|g__Mycoplasma|s__Mycoplasma_bovis  \\\n",
       "ID@sampleID                                                                                                                        \n",
       "CON-001                                                       0                                                                    \n",
       "CON-002                                                       0                                                                    \n",
       "CON-003                                                       0                                                                    \n",
       "CON-004                                                       0                                                                    \n",
       "CON-005                                                       0                                                                    \n",
       "\n",
       "dataset_name X@k__Bacteria|p__Bacteroidetes|c__Flavobacteriia|o__Flavobacteriales|f__Flavobacteriaceae|g__Zunongwangia|s__Zunongwangia_profunda  \\\n",
       "ID@sampleID                                                                                                                                       \n",
       "CON-001                                                       0                                                                                   \n",
       "CON-002                                                       0                                                                                   \n",
       "CON-003                                                       0                                                                                   \n",
       "CON-004                                                       0                                                                                   \n",
       "CON-005                                                       0                                                                                   \n",
       "\n",
       "dataset_name X@k__Bacteria|p__Firmicutes|c__Bacilli|o__Lactobacillales|f__Enterococcaceae|g__Enterococcus|s__Enterococcus_pallens  \\\n",
       "ID@sampleID                                                                                                                         \n",
       "CON-001                                                       0                                                                     \n",
       "CON-002                                                       0                                                                     \n",
       "CON-003                                                       0                                                                     \n",
       "CON-004                                                       0                                                                     \n",
       "CON-005                                                       0                                                                     \n",
       "\n",
       "dataset_name X@k__Bacteria|p__Planctomycetes|c__Planctomycetia|o__Planctomycetales|f__Planctomycetaceae|g__Rhodopirellula|s__Rhodopirellula_unclassified  \\\n",
       "ID@sampleID                                                                                                                                                \n",
       "CON-001                                                       0                                                                                            \n",
       "CON-002                                                       0                                                                                            \n",
       "CON-003                                                       0                                                                                            \n",
       "CON-004                                                       0                                                                                            \n",
       "CON-005                                                       0                                                                                            \n",
       "\n",
       "dataset_name X@k__Bacteria|p__Proteobacteria|c__Gammaproteobacteria|o__Vibrionales|f__Vibrionaceae|g__Vibrio|s__Vibrio_furnissii  \\\n",
       "ID@sampleID                                                                                                                        \n",
       "CON-001                                                       0                                                                    \n",
       "CON-002                                                       0                                                                    \n",
       "CON-003                                                       0                                                                    \n",
       "CON-004                                                       0                                                                    \n",
       "CON-005                                                       0                                                                    \n",
       "\n",
       "dataset_name Y@label  \n",
       "ID@sampleID           \n",
       "CON-001            0  \n",
       "CON-002            0  \n",
       "CON-003            0  \n",
       "CON-004            0  \n",
       "CON-005            0  \n",
       "\n",
       "[5 rows x 782 columns]"
      ]
     },
     "execution_count": 88,
     "metadata": {},
     "output_type": "execute_result"
    }
   ],
   "source": [
    "t2d_abundance.head()"
   ]
  },
  {
   "cell_type": "code",
   "execution_count": 166,
   "id": "dc789068-110c-4dc1-ba49-ee86b2eb1ffd",
   "metadata": {},
   "outputs": [
    {
     "name": "stdout",
     "output_type": "stream",
     "text": [
      "174\n",
      "170\n"
     ]
    }
   ],
   "source": [
    "t2d_abundance_false = t2d_abundance.loc[t2d_abundance[\"Y@disease\"] == \"n\"]\n",
    "print(len(t2d_abundance_false))\n",
    "t2d_abundance_true = t2d_abundance.loc[t2d_abundance[\"Y@disease\"] == \"t2d\"]\n",
    "print(len(t2d_abundance_true))\n",
    "\n",
    "t2d_neg_abundance_microbes = t2d_abundance_false.filter(regex = \"^X@\").astype(float)\n",
    "t2d_pos_abundance_microbes = t2d_abundance_true.filter(regex = \"^X@\").astype(float)"
   ]
  },
  {
   "cell_type": "code",
   "execution_count": 96,
   "id": "65f27d62-65df-4a9a-8472-b408c11f2661",
   "metadata": {},
   "outputs": [
    {
     "name": "stdout",
     "output_type": "stream",
     "text": [
      "ID@sampleID\n",
      "CON-001     99.99997\n",
      "CON-002     99.99996\n",
      "CON-003    100.00001\n",
      "CON-004     99.99995\n",
      "CON-005     99.99997\n",
      "             ...    \n",
      "NOM018      99.99996\n",
      "NOM022     100.00007\n",
      "NOM023     100.00003\n",
      "NOM026      99.99997\n",
      "NOM029     100.00001\n",
      "Length: 174, dtype: float64\n",
      "ID@sampleID\n",
      "DLF009    100.00002\n",
      "DLF012     99.99999\n",
      "DLF013     99.99996\n",
      "DLF014     99.99999\n",
      "DLM001    100.00001\n",
      "            ...    \n",
      "DOM020     99.99996\n",
      "DOM021     99.99997\n",
      "DOM023     99.99999\n",
      "DOM024    100.00001\n",
      "DOM025     99.99999\n",
      "Length: 170, dtype: float64\n"
     ]
    }
   ],
   "source": [
    "#marginal sum\n",
    "neg_sum = t2d_neg_abundance_microbes.sum(axis=1)\n",
    "print(neg_sum)\n",
    "pos_sum = t2d_pos_abundance_microbes.sum(axis=1)\n",
    "print(pos_sum)"
   ]
  },
  {
   "cell_type": "code",
   "execution_count": 153,
   "id": "62b8ee31-e299-4a31-be5e-9bfe68e22b70",
   "metadata": {},
   "outputs": [],
   "source": [
    "#entropy\n",
    "from scipy.stats import entropy\n",
    "entropy_list = [] #[[neg_ent], [pos_ent]]\n",
    "\n",
    "for dataframe in [t2d_neg_abundance_microbes, t2d_pos_abundance_microbes]:\n",
    "    entropy_sublist = []\n",
    "    for idx, row in dataframe.iterrows():\n",
    "        row_ent = entropy(row)/np.log(572) #scaling\n",
    "        entropy_sublist.append(row_ent)\n",
    "    entropy_list.append(entropy_sublist)"
   ]
  },
  {
   "cell_type": "code",
   "execution_count": 162,
   "id": "0cf6b07b-4ea2-4d57-8bca-e0bf30093f72",
   "metadata": {},
   "outputs": [
    {
     "data": {
      "image/png": "[encoded data removed]",
      "text/plain": [
       "<Figure size 432x288 with 1 Axes>"
      ]
     },
     "metadata": {
      "needs_background": "light"
     },
     "output_type": "display_data"
    },
    {
     "name": "stdout",
     "output_type": "stream",
     "text": [
      "DIABETES NEGATIVE MEAN ENTROPY SCORE: 0.42218128196894755\n"
     ]
    }
   ],
   "source": [
    "plt.hist(entropy_list[0], 10)\n",
    "plt.xlabel(\"entropy score\")\n",
    "plt.ylabel(\"#samples\")\n",
    "plt.show()\n",
    "print(\"DIABETES NEGATIVE MEAN ENTROPY SCORE: {}\".format(np.mean(entropy_list[0])))"
   ]
  },
  {
   "cell_type": "code",
   "execution_count": 163,
   "id": "a6d5f931-237c-4113-b7a0-cc8e1faf0bfd",
   "metadata": {},
   "outputs": [
    {
     "data": {
      "image/png": "[encoded data removed]",
      "text/plain": [
       "<Figure size 432x288 with 1 Axes>"
      ]
     },
     "metadata": {
      "needs_background": "light"
     },
     "output_type": "display_data"
    },
    {
     "name": "stdout",
     "output_type": "stream",
     "text": [
      "DIABETES POSITIVE MEAN ENTROPY SCORE: 0.4429164178569426\n"
     ]
    }
   ],
   "source": [
    "plt.hist(entropy_list[1], 10)\n",
    "plt.xlabel(\"entropy score\")\n",
    "plt.ylabel(\"#samples\")\n",
    "plt.show()\n",
    "print(\"DIABETES POSITIVE MEAN ENTROPY SCORE: {}\".format(np.mean(entropy_list[1])))"
   ]
  },
  {
   "cell_type": "code",
   "execution_count": 179,
   "id": "f4136ba3-46a0-4ec8-80c8-082072024f14",
   "metadata": {},
   "outputs": [],
   "source": [
    "def entropy_calculator(df):\n",
    "    label_neg = df.loc[df[\"Y@label\"] == 0].filter(regex = \"^X@\")\n",
    "    label_pos = df.loc[df[\"Y@label\"] == 1].filter(regex = \"^X@\")\n",
    "    \n",
    "    entropy_list = [] #[[neg_ent], [pos_ent]]\n",
    "\n",
    "    for dataframe in [label_neg, label_pos]:\n",
    "        entropy_sublist = []\n",
    "        for idx, row in dataframe.iterrows():\n",
    "            row_ent = entropy(row)/np.log(len(label_neg.columns.tolist())) #scaling\n",
    "            entropy_sublist.append(row_ent)\n",
    "        entropy_list.append(entropy_sublist)\n",
    "    \n",
    "    return entropy_list\n",
    "\n",
    "col_abundance = pd.read_csv(f\"{ROOT_PATH}/data/mm-graph/Colorectal_Abundance_Profile.csv\")\n",
    "col_ent = entropy_calculator(col_abundance)"
   ]
  },
  {
   "cell_type": "code",
   "execution_count": 180,
   "id": "007f7268-c3a8-437a-8fdb-a6ee912ea18c",
   "metadata": {},
   "outputs": [
    {
     "data": {
      "image/png": "[encoded data removed]",
      "text/plain": [
       "<Figure size 432x288 with 1 Axes>"
      ]
     },
     "metadata": {
      "needs_background": "light"
     },
     "output_type": "display_data"
    },
    {
     "name": "stdout",
     "output_type": "stream",
     "text": [
      "COLORECTAL CANCER NEGATIVE MEAN ENTROPY SCORE: 0.498951569370593\n"
     ]
    }
   ],
   "source": [
    "plt.hist(col_ent[0], 10)\n",
    "plt.xlabel(\"entropy score\")\n",
    "plt.ylabel(\"#samples\")\n",
    "plt.show()\n",
    "print(\"COLORECTAL CANCER NEGATIVE MEAN ENTROPY SCORE: {}\".format(np.mean(col_ent[0])))"
   ]
  },
  {
   "cell_type": "code",
   "execution_count": 181,
   "id": "74c8ffb6-3b77-4b8c-b56c-22f3e5242147",
   "metadata": {},
   "outputs": [
    {
     "data": {
      "image/png": "[encoded data removed]",
      "text/plain": [
       "<Figure size 432x288 with 1 Axes>"
      ]
     },
     "metadata": {
      "needs_background": "light"
     },
     "output_type": "display_data"
    },
    {
     "name": "stdout",
     "output_type": "stream",
     "text": [
      "COLORECTAL CANCER NEGATIVE MEAN ENTROPY SCORE: 0.49063941591572\n"
     ]
    }
   ],
   "source": [
    "plt.hist(col_ent[1], 10)\n",
    "plt.xlabel(\"entropy score\")\n",
    "plt.ylabel(\"#samples\")\n",
    "plt.show()\n",
    "print(\"COLORECTAL CANCER NEGATIVE MEAN ENTROPY SCORE: {}\".format(np.mean(col_ent[1])))"
   ]
  },
  {
   "cell_type": "code",
   "execution_count": null,
   "id": "e9e23db1-1e2f-434c-ba23-7e5617d4f2e4",
   "metadata": {},
   "outputs": [],
   "source": []
  }
 ],
 "metadata": {
  "kernelspec": {
   "display_name": "Python [conda env:dti]",
   "language": "python",
   "name": "conda-env-dti-py"
  },
  "language_info": {
   "codemirror_mode": {
    "name": "ipython",
    "version": 3
   },
   "file_extension": ".py",
   "mimetype": "text/x-python",
   "name": "python",
   "nbconvert_exporter": "python",
   "pygments_lexer": "ipython3",
   "version": "3.9.7"
  }
 },
 "nbformat": 4,
 "nbformat_minor": 5
}
